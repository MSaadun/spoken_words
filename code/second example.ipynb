{
 "cells": [
  {
   "cell_type": "code",
   "execution_count": 0,
   "metadata": {
    "colab": {},
    "colab_type": "code",
    "id": "1oTiZqjCZ8mJ"
   },
   "outputs": [],
   "source": [
    "import numpy as np\n",
    "import pandas as pd\n",
    "import io\n",
    "import os"
   ]
  },
  {
   "cell_type": "code",
   "execution_count": null,
   "metadata": {
    "colab": {
     "base_uri": "https://localhost:8080/",
     "height": 130
    },
    "colab_type": "code",
    "executionInfo": {
     "elapsed": 25876,
     "status": "ok",
     "timestamp": 1576030815697,
     "user": {
      "displayName": "Mohammed Saadun",
      "photoUrl": "",
      "userId": "00430614920235689751"
     },
     "user_tz": -60
    },
    "id": "vKE6RzHlZ-OS",
    "outputId": "fd1df13f-c30d-4ab4-96b4-adb28db6d056",
    "scrolled": false
   },
   "outputs": [],
   "source": [
    "from google.colab import drive\n",
    "drive.mount('/content/drive')"
   ]
  },
  {
   "cell_type": "code",
   "execution_count": 0,
   "metadata": {
    "colab": {
     "base_uri": "https://localhost:8080/",
     "height": 35
    },
    "colab_type": "code",
    "executionInfo": {
     "elapsed": 28920,
     "status": "ok",
     "timestamp": 1576030818765,
     "user": {
      "displayName": "Mohammed Saadun",
      "photoUrl": "",
      "userId": "00430614920235689751"
     },
     "user_tz": -60
    },
    "id": "P1WMXoLeZ_qt",
    "outputId": "5de79882-fa95-4393-d4d9-3bce64727102"
   },
   "outputs": [
    {
     "name": "stdout",
     "output_type": "stream",
     "text": [
      "'My Drive'\n"
     ]
    }
   ],
   "source": [
    "os.chdir(\"/content/drive/\")\n",
    "!ls"
   ]
  },
  {
   "cell_type": "code",
   "execution_count": 0,
   "metadata": {
    "colab": {},
    "colab_type": "code",
    "id": "y2TRtbDpaSq8"
   },
   "outputs": [],
   "source": [
    "feat = np.load(\"/content/drive/My Drive/feat.npy\", allow_pickle=True)\n",
    "path = np.load(\"/content/drive/My Drive/path.npy\", allow_pickle=True)\n",
    "train = pd.read_csv('/content/drive/My Drive/train.csv')\n",
    "test = pd.read_csv('/content/drive/My Drive/test.csv')"
   ]
  },
  {
   "cell_type": "code",
   "execution_count": 0,
   "metadata": {
    "colab": {
     "base_uri": "https://localhost:8080/",
     "height": 105
    },
    "colab_type": "code",
    "executionInfo": {
     "elapsed": 40485,
     "status": "ok",
     "timestamp": 1576030833570,
     "user": {
      "displayName": "Mohammed Saadun",
      "photoUrl": "",
      "userId": "00430614920235689751"
     },
     "user_tz": -60
    },
    "id": "lmIaTtoLKZq0",
    "outputId": "969536c1-3785-4fc3-9d3c-9d1913920081"
   },
   "outputs": [
    {
     "name": "stderr",
     "output_type": "stream",
     "text": [
      "/usr/local/lib/python3.6/dist-packages/pandas/core/ops/__init__.py:1069: FutureWarning: elementwise comparison failed; returning scalar instead, but in the future will perform elementwise comparison\n",
      "  result = libops.scalar_compare(x, y, op)\n"
     ]
    },
    {
     "data": {
      "text/html": [
       "<div>\n",
       "<style scoped>\n",
       "    .dataframe tbody tr th:only-of-type {\n",
       "        vertical-align: middle;\n",
       "    }\n",
       "\n",
       "    .dataframe tbody tr th {\n",
       "        vertical-align: top;\n",
       "    }\n",
       "\n",
       "    .dataframe thead th {\n",
       "        text-align: right;\n",
       "    }\n",
       "</style>\n",
       "<table border=\"1\" class=\"dataframe\">\n",
       "  <thead>\n",
       "    <tr style=\"text-align: right;\">\n",
       "      <th></th>\n",
       "      <th>path</th>\n",
       "      <th>word</th>\n",
       "      <th>features</th>\n",
       "    </tr>\n",
       "  </thead>\n",
       "  <tbody>\n",
       "  </tbody>\n",
       "</table>\n",
       "</div>"
      ],
      "text/plain": [
       "Empty DataFrame\n",
       "Columns: [path, word, features]\n",
       "Index: []"
      ]
     },
     "execution_count": 5,
     "metadata": {
      "tags": []
     },
     "output_type": "execute_result"
    }
   ],
   "source": [
    "dataset = pd.DataFrame({\"path\":path,\"features\":feat})\n",
    "train2 = pd.merge(train,\n",
    "        dataset[[\"path\",\"features\"]],\n",
    "        left_on = [\"path\"],\n",
    "        right_on = [\"path\"],\n",
    "        how = \"left\")\n",
    "train2.loc[train2['features'] == \" \"]          "
   ]
  },
  {
   "cell_type": "code",
   "execution_count": 0,
   "metadata": {
    "colab": {
     "base_uri": "https://localhost:8080/",
     "height": 255
    },
    "colab_type": "code",
    "executionInfo": {
     "elapsed": 800,
     "status": "ok",
     "timestamp": 1576012024792,
     "user": {
      "displayName": "Steef Creemers",
      "photoUrl": "",
      "userId": "09625918460227837304"
     },
     "user_tz": -60
    },
    "id": "xlyIRdgkqe3h",
    "outputId": "ba944698-3f5c-4be6-fd00-d5a265f514c4"
   },
   "outputs": [
    {
     "name": "stdout",
     "output_type": "stream",
     "text": [
      "                                               path   word\n",
      "0      8d37d10e7f97ddea2eca9d39a4cf821b4457b041.wav    one\n",
      "1      9a8f761be3fa0d0a963f5612ba73e68cc0ad11ba.wav    one\n",
      "2      314cdc39f628bc68d216498b2080bcc7a549a45f.wav    one\n",
      "3      cc499e63eee4a3bcca48b5b452df04990df83570.wav    one\n",
      "4      38cdcc4d9432ce4a2fe63e0998dbca91e64b954a.wav    one\n",
      "...                                             ...    ...\n",
      "94819  0a906bec4b8cf35a9f1e07bf173197e5d242aebf.wav  house\n",
      "94820  dc476b9203287605e20b6d0ae3c2a6b02a6960b1.wav  house\n",
      "94821  5e59953b71372b0d6ddc795576fde1845c6657de.wav  house\n",
      "94822  45493058505da2a51e407924e06a35163cb45a9d.wav  house\n",
      "94823  89717a535d5301648bd3ff1e4a3949922a38d22f.wav  house\n",
      "\n",
      "[94824 rows x 2 columns]\n"
     ]
    }
   ],
   "source": [
    "print(train2[[\"path\",\"word\"]])"
   ]
  },
  {
   "cell_type": "code",
   "execution_count": 0,
   "metadata": {
    "colab": {},
    "colab_type": "code",
    "id": "a_BC_uTNglk5"
   },
   "outputs": [],
   "source": [
    "x_train_1 = train2.iloc[:,2:]\n",
    "x_train_1 = np.array(x_train_1)\n",
    "\n",
    "y_train_1 = train2.iloc[:,1:2]\n",
    "y_train_1 = np.array(y_train_1)"
   ]
  },
  {
   "cell_type": "code",
   "execution_count": 0,
   "metadata": {
    "colab": {
     "base_uri": "https://localhost:8080/",
     "height": 164
    },
    "colab_type": "code",
    "executionInfo": {
     "elapsed": 430,
     "status": "ok",
     "timestamp": 1576018091369,
     "user": {
      "displayName": "Aron Wattel",
      "photoUrl": "",
      "userId": "15356418264164897115"
     },
     "user_tz": -60
    },
    "id": "aocmqBibiK4D",
    "outputId": "fe78307d-cb11-4e17-9734-83840ca33df3"
   },
   "outputs": [
    {
     "data": {
      "text/plain": [
       "(array(['backward', 'bed', 'bird', 'cat', 'dog', 'down', 'eight', 'five',\n",
       "        'follow', 'forward', 'four', 'go', 'happy', 'house', 'learn',\n",
       "        'left', 'marvin', 'nine', 'no', 'off', 'on', 'one', 'right',\n",
       "        'seven', 'sheila', 'six', 'stop', 'three', 'tree', 'two', 'up',\n",
       "        'visual', 'wow', 'yes', 'zero'], dtype=object),\n",
       " array([1499, 1807, 1879, 1837, 1908, 3511, 3379, 3607, 1407, 1402, 3328,\n",
       "        3478, 1851, 1922, 1414, 3389, 1905, 3526, 3536, 3343, 3449, 3491,\n",
       "        3382, 3592, 1810, 3466, 3461, 3322, 1566, 3456, 3298, 1427, 1917,\n",
       "        3625, 3634]))"
      ]
     },
     "execution_count": 9,
     "metadata": {
      "tags": []
     },
     "output_type": "execute_result"
    }
   ],
   "source": [
    "np.unique(y_train_1, return_counts=True)"
   ]
  },
  {
   "cell_type": "markdown",
   "metadata": {
    "colab_type": "text",
    "id": "w975VFZZ6cHA"
   },
   "source": [
    "# Feature engineering / Dimension reduction"
   ]
  },
  {
   "cell_type": "code",
   "execution_count": 0,
   "metadata": {
    "colab": {
     "base_uri": "https://localhost:8080/",
     "height": 35
    },
    "colab_type": "code",
    "executionInfo": {
     "elapsed": 388,
     "status": "ok",
     "timestamp": 1575949041581,
     "user": {
      "displayName": "Mohammed Saadun",
      "photoUrl": "",
      "userId": "00430614920235689751"
     },
     "user_tz": -60
    },
    "id": "MLn9ON9E6cHG",
    "outputId": "5662d6e1-7daf-42e0-f799-9f32bac5b28f"
   },
   "outputs": [
    {
     "data": {
      "text/plain": [
       "(94824, 1)"
      ]
     },
     "execution_count": 8,
     "metadata": {
      "tags": []
     },
     "output_type": "execute_result"
    }
   ],
   "source": [
    "x_train_1.shape"
   ]
  },
  {
   "cell_type": "code",
   "execution_count": 0,
   "metadata": {
    "colab": {
     "base_uri": "https://localhost:8080/",
     "height": 35
    },
    "colab_type": "code",
    "executionInfo": {
     "elapsed": 1023,
     "status": "ok",
     "timestamp": 1575949043511,
     "user": {
      "displayName": "Mohammed Saadun",
      "photoUrl": "",
      "userId": "00430614920235689751"
     },
     "user_tz": -60
    },
    "id": "S659donl6cHJ",
    "outputId": "48c854bc-8dff-4282-cced-a5b676de11b3"
   },
   "outputs": [
    {
     "data": {
      "text/plain": [
       "(94824, 1)"
      ]
     },
     "execution_count": 9,
     "metadata": {
      "tags": []
     },
     "output_type": "execute_result"
    }
   ],
   "source": [
    "y_train_1.shape"
   ]
  },
  {
   "cell_type": "code",
   "execution_count": 0,
   "metadata": {
    "colab": {
     "base_uri": "https://localhost:8080/",
     "height": 35
    },
    "colab_type": "code",
    "executionInfo": {
     "elapsed": 957,
     "status": "ok",
     "timestamp": 1575949044399,
     "user": {
      "displayName": "Mohammed Saadun",
      "photoUrl": "",
      "userId": "00430614920235689751"
     },
     "user_tz": -60
    },
    "id": "CHgLLjmT6cHL",
    "outputId": "6ecce6d9-ccd0-47f9-d85a-2c383246cbbb"
   },
   "outputs": [
    {
     "data": {
      "text/plain": [
       "(99, 13)"
      ]
     },
     "execution_count": 10,
     "metadata": {
      "tags": []
     },
     "output_type": "execute_result"
    }
   ],
   "source": [
    "x_train_1[0][0].shape"
   ]
  },
  {
   "cell_type": "code",
   "execution_count": 0,
   "metadata": {
    "colab": {
     "base_uri": "https://localhost:8080/",
     "height": 35
    },
    "colab_type": "code",
    "executionInfo": {
     "elapsed": 1058,
     "status": "ok",
     "timestamp": 1575949047633,
     "user": {
      "displayName": "Mohammed Saadun",
      "photoUrl": "",
      "userId": "00430614920235689751"
     },
     "user_tz": -60
    },
    "id": "5Gsjo1Sh6cHO",
    "outputId": "1f3e46a4-5a7b-4ac9-8d01-ec05adbe6c28"
   },
   "outputs": [
    {
     "data": {
      "text/plain": [
       "(99, 13)"
      ]
     },
     "execution_count": 11,
     "metadata": {
      "tags": []
     },
     "output_type": "execute_result"
    }
   ],
   "source": [
    "a = np.concatenate(x_train_1)\n",
    "a[0].shape"
   ]
  },
  {
   "cell_type": "code",
   "execution_count": 0,
   "metadata": {
    "colab": {},
    "colab_type": "code",
    "id": "ZsP4FYBd6cHR"
   },
   "outputs": [],
   "source": [
    "def features(features, function):\n",
    "    new = np.copy(features)\n",
    "    for i in range(len(features)):\n",
    "        new[i] = function(new[i], axis=0)\n",
    "    return new\n",
    "\n",
    "mean_features = features(a, np.mean) \n",
    "\n",
    "######\n",
    "#   [[1,2,3,4],\n",
    "#   [1,2,3,5],  --> = [(1+1+1)/3, (2+2+2)/3, (3+3+3)/3, (4+5+6)/3] --> [1,2,3,5] \n",
    "#   [1,2,3,6]]\n",
    "######"
   ]
  },
  {
   "cell_type": "code",
   "execution_count": 0,
   "metadata": {
    "colab": {
     "base_uri": "https://localhost:8080/",
     "height": 35
    },
    "colab_type": "code",
    "executionInfo": {
     "elapsed": 1061,
     "status": "ok",
     "timestamp": 1575953242606,
     "user": {
      "displayName": "Mohammed Saadun",
      "photoUrl": "",
      "userId": "00430614920235689751"
     },
     "user_tz": -60
    },
    "id": "FhAqsA7v6cHa",
    "outputId": "73fe5b13-16cc-4105-a041-5a03745d3f4c"
   },
   "outputs": [
    {
     "data": {
      "text/plain": [
       "(94824, 13)"
      ]
     },
     "execution_count": 47,
     "metadata": {
      "tags": []
     },
     "output_type": "execute_result"
    }
   ],
   "source": [
    "c = []\n",
    "for each in mean_features:\n",
    "    b = each.tolist()\n",
    "    c.append(b)\n",
    "c = np.asarray(c)\n",
    "\n",
    "c.shape"
   ]
  },
  {
   "cell_type": "code",
   "execution_count": 0,
   "metadata": {
    "colab": {
     "base_uri": "https://localhost:8080/",
     "height": 91
    },
    "colab_type": "code",
    "executionInfo": {
     "elapsed": 818,
     "status": "ok",
     "timestamp": 1575949057520,
     "user": {
      "displayName": "Mohammed Saadun",
      "photoUrl": "",
      "userId": "00430614920235689751"
     },
     "user_tz": -60
    },
    "id": "nncvj5J66cHc",
    "outputId": "8cbc2b1c-488d-42ba-fca4-cfd7beb22e8c"
   },
   "outputs": [
    {
     "data": {
      "text/plain": [
       "array([ -8.51916504, -12.39156342,  -8.04028606,  -2.26878309,\n",
       "        -5.95670509,  -2.26012301,   2.44487143,  -4.60500002,\n",
       "         2.56349063,   1.04363096,  -6.20483589,   1.81926596,\n",
       "        -0.96842885])"
      ]
     },
     "execution_count": 14,
     "metadata": {
      "tags": []
     },
     "output_type": "execute_result"
    }
   ],
   "source": [
    "c[0]"
   ]
  },
  {
   "cell_type": "code",
   "execution_count": 0,
   "metadata": {
    "colab": {
     "base_uri": "https://localhost:8080/",
     "height": 91
    },
    "colab_type": "code",
    "executionInfo": {
     "elapsed": 449,
     "status": "ok",
     "timestamp": 1575949059745,
     "user": {
      "displayName": "Mohammed Saadun",
      "photoUrl": "",
      "userId": "00430614920235689751"
     },
     "user_tz": -60
    },
    "id": "KGRLjfQa6cHf",
    "outputId": "55ba267c-8ae2-4429-b21b-064690907937"
   },
   "outputs": [
    {
     "data": {
      "text/plain": [
       "array([ -8.519165  , -12.391563  ,  -8.040286  ,  -2.268783  ,\n",
       "        -5.956705  ,  -2.260123  ,   2.4448714 ,  -4.605     ,\n",
       "         2.5634906 ,   1.043631  ,  -6.204836  ,   1.819266  ,\n",
       "        -0.96842885], dtype=float32)"
      ]
     },
     "execution_count": 15,
     "metadata": {
      "tags": []
     },
     "output_type": "execute_result"
    }
   ],
   "source": [
    "np.mean(x_train_1[0][0], axis=0)"
   ]
  },
  {
   "cell_type": "code",
   "execution_count": 0,
   "metadata": {
    "colab": {
     "base_uri": "https://localhost:8080/",
     "height": 184
    },
    "colab_type": "code",
    "executionInfo": {
     "elapsed": 528,
     "status": "ok",
     "timestamp": 1575953246777,
     "user": {
      "displayName": "Mohammed Saadun",
      "photoUrl": "",
      "userId": "00430614920235689751"
     },
     "user_tz": -60
    },
    "id": "jLhBStmu6cHi",
    "outputId": "f05a008e-19e3-493f-caf2-f98393e30634"
   },
   "outputs": [
    {
     "data": {
      "text/plain": [
       "(array(['backward', 'bed', 'bird', 'cat', 'dog', 'down', 'eight', 'five',\n",
       "        'follow', 'forward', 'four', 'go', 'happy', 'house', 'learn',\n",
       "        'left', 'marvin', 'nine', 'no', 'off', 'on', 'one', 'right',\n",
       "        'seven', 'sheila', 'six', 'stop', 'three', 'tree', 'two', 'up',\n",
       "        'visual', 'wow', 'yes', 'zero'], dtype=object),\n",
       " array([1499, 1807, 1879, 1837, 1908, 3511, 3379, 3607, 1407, 1402, 3328,\n",
       "        3478, 1851, 1922, 1414, 3389, 1905, 3526, 3536, 3343, 3449, 3491,\n",
       "        3382, 3592, 1810, 3466, 3461, 3322, 1566, 3456, 3298, 1427, 1917,\n",
       "        3625, 3634]))"
      ]
     },
     "execution_count": 48,
     "metadata": {
      "tags": []
     },
     "output_type": "execute_result"
    }
   ],
   "source": [
    "np.unique(y_train_1, return_counts = True)"
   ]
  },
  {
   "cell_type": "code",
   "execution_count": 0,
   "metadata": {
    "colab": {},
    "colab_type": "code",
    "id": "RBiSr6uP6cHn"
   },
   "outputs": [],
   "source": []
  },
  {
   "cell_type": "markdown",
   "metadata": {
    "colab_type": "text",
    "id": "uAdaGmUKgKPC"
   },
   "source": [
    "# One-hot encoding"
   ]
  },
  {
   "cell_type": "code",
   "execution_count": 0,
   "metadata": {
    "colab": {
     "base_uri": "https://localhost:8080/",
     "height": 111
    },
    "colab_type": "code",
    "executionInfo": {
     "elapsed": 1632,
     "status": "ok",
     "timestamp": 1576030835233,
     "user": {
      "displayName": "Mohammed Saadun",
      "photoUrl": "",
      "userId": "00430614920235689751"
     },
     "user_tz": -60
    },
    "id": "W5ETilmbVN8D",
    "outputId": "6b17083b-30f4-4792-bc73-32dc8530002e"
   },
   "outputs": [
    {
     "name": "stderr",
     "output_type": "stream",
     "text": [
      "/usr/local/lib/python3.6/dist-packages/sklearn/preprocessing/_encoders.py:415: FutureWarning: The handling of integer data will change in version 0.22. Currently, the categories are determined based on the range [0, max(values)], while in the future they will be determined based on the unique values.\n",
      "If you want the future behaviour and silence this warning, you can specify \"categories='auto'\".\n",
      "In case you used a LabelEncoder before this OneHotEncoder to convert the categories to integers, then you can now use the OneHotEncoder directly.\n",
      "  warnings.warn(msg, FutureWarning)\n"
     ]
    }
   ],
   "source": [
    "from numpy import array\n",
    "from numpy import argmax\n",
    "from sklearn.preprocessing import LabelEncoder\n",
    "from sklearn.preprocessing import OneHotEncoder\n",
    "# define example\n",
    "data = train['word']\n",
    "values = array(data)\n",
    "#print(values)\n",
    "# integer encode\n",
    "label_encoder = LabelEncoder()\n",
    "integer_encoded = label_encoder.fit_transform(values)\n",
    "# binary encode\n",
    "onehot_encoder = OneHotEncoder(sparse=False)\n",
    "integer_encoded = integer_encoded.reshape(len(integer_encoded), 1)\n",
    "onehot_encoded = onehot_encoder.fit_transform(integer_encoded)\n",
    "# invert first example\n",
    "inverted = label_encoder.inverse_transform([argmax(onehot_encoded[0, :])])\n"
   ]
  },
  {
   "cell_type": "code",
   "execution_count": 0,
   "metadata": {
    "colab": {
     "base_uri": "https://localhost:8080/",
     "height": 1000
    },
    "colab_type": "code",
    "executionInfo": {
     "elapsed": 927,
     "status": "ok",
     "timestamp": 1576030838655,
     "user": {
      "displayName": "Mohammed Saadun",
      "photoUrl": "",
      "userId": "00430614920235689751"
     },
     "user_tz": -60
    },
    "id": "9Y04idEdaFJY",
    "outputId": "208679df-89f8-4753-a2ef-9750db4fab39"
   },
   "outputs": [
    {
     "name": "stdout",
     "output_type": "stream",
     "text": [
      "[[0. 0. 0. 0. 1. 0. 0. 0. 0. 0. 0. 0. 0. 0. 0. 0. 0. 0. 0. 0. 0. 0. 0. 0.\n",
      "  0. 0. 0. 0. 0. 0. 0. 0. 0. 0. 0.]\n",
      " [0. 0. 0. 0. 1. 0. 0. 0. 0. 0. 0. 0. 0. 0. 0. 0. 0. 0. 0. 0. 0. 0. 0. 0.\n",
      "  0. 0. 0. 0. 0. 0. 0. 0. 0. 0. 0.]\n",
      " [0. 0. 0. 0. 1. 0. 0. 0. 0. 0. 0. 0. 0. 0. 0. 0. 0. 0. 0. 0. 0. 0. 0. 0.\n",
      "  0. 0. 0. 0. 0. 0. 0. 0. 0. 0. 0.]\n",
      " [0. 0. 0. 0. 1. 0. 0. 0. 0. 0. 0. 0. 0. 0. 0. 0. 0. 0. 0. 0. 0. 0. 0. 0.\n",
      "  0. 0. 0. 0. 0. 0. 0. 0. 0. 0. 0.]\n",
      " [0. 0. 0. 0. 1. 0. 0. 0. 0. 0. 0. 0. 0. 0. 0. 0. 0. 0. 0. 0. 0. 0. 0. 0.\n",
      "  0. 0. 0. 0. 0. 0. 0. 0. 0. 0. 0.]\n",
      " [0. 0. 0. 0. 1. 0. 0. 0. 0. 0. 0. 0. 0. 0. 0. 0. 0. 0. 0. 0. 0. 0. 0. 0.\n",
      "  0. 0. 0. 0. 0. 0. 0. 0. 0. 0. 0.]\n",
      " [0. 0. 0. 0. 1. 0. 0. 0. 0. 0. 0. 0. 0. 0. 0. 0. 0. 0. 0. 0. 0. 0. 0. 0.\n",
      "  0. 0. 0. 0. 0. 0. 0. 0. 0. 0. 0.]\n",
      " [0. 0. 0. 0. 1. 0. 0. 0. 0. 0. 0. 0. 0. 0. 0. 0. 0. 0. 0. 0. 0. 0. 0. 0.\n",
      "  0. 0. 0. 0. 0. 0. 0. 0. 0. 0. 0.]\n",
      " [0. 0. 0. 0. 1. 0. 0. 0. 0. 0. 0. 0. 0. 0. 0. 0. 0. 0. 0. 0. 0. 0. 0. 0.\n",
      "  0. 0. 0. 0. 0. 0. 0. 0. 0. 0. 0.]\n",
      " [0. 0. 0. 0. 1. 0. 0. 0. 0. 0. 0. 0. 0. 0. 0. 0. 0. 0. 0. 0. 0. 0. 0. 0.\n",
      "  0. 0. 0. 0. 0. 0. 0. 0. 0. 0. 0.]]\n",
      "[['dog']\n",
      " ['dog']\n",
      " ['dog']\n",
      " ['dog']\n",
      " ['dog']\n",
      " ['dog']\n",
      " ['dog']\n",
      " ['dog']\n",
      " ['dog']\n",
      " ['dog']]\n",
      "[['one']\n",
      " ['one']\n",
      " ['one']\n",
      " ['one']\n",
      " ['one']\n",
      " ['one']\n",
      " ['one']\n",
      " ['one']\n",
      " ['one']\n",
      " ['one']]\n",
      "[[4]\n",
      " [4]\n",
      " [4]\n",
      " [4]\n",
      " [4]\n",
      " [4]\n",
      " [4]\n",
      " [4]\n",
      " [4]\n",
      " [4]]\n",
      "[[21]\n",
      " [21]\n",
      " [21]\n",
      " [21]\n",
      " [21]\n",
      " [21]\n",
      " [21]\n",
      " [21]\n",
      " [21]\n",
      " [21]]\n",
      "['backward' 'bed' 'bird' 'cat' 'dog' 'down' 'eight' 'five' 'follow'\n",
      " 'forward' 'four' 'go' 'happy' 'house' 'learn' 'left' 'marvin' 'nine' 'no'\n",
      " 'off' 'on' 'one' 'right' 'seven' 'sheila' 'six' 'stop' 'three' 'tree'\n",
      " 'two' 'up' 'visual' 'wow' 'yes' 'zero']\n"
     ]
    }
   ],
   "source": [
    "y_train1 = onehot_encoded\n",
    "y_train2 = integer_encoded\n",
    "print(y_train1[8000:8010])\n",
    "print(y_train_1[8000:8010])\n",
    "print(y_train_1[0:10])\n",
    "print(y_train2[8000:8010])\n",
    "print(y_train2[0:10])\n",
    "print(np.unique(y_train_1))"
   ]
  },
  {
   "cell_type": "code",
   "execution_count": 0,
   "metadata": {
    "colab": {
     "base_uri": "https://localhost:8080/",
     "height": 54
    },
    "colab_type": "code",
    "executionInfo": {
     "elapsed": 810,
     "status": "ok",
     "timestamp": 1576030852691,
     "user": {
      "displayName": "Mohammed Saadun",
      "photoUrl": "",
      "userId": "00430614920235689751"
     },
     "user_tz": -60
    },
    "id": "jgDXEeSQJFCB",
    "outputId": "e2571961-ed0b-4fc4-d4fc-b7b5a23e34e5"
   },
   "outputs": [
    {
     "name": "stdout",
     "output_type": "stream",
     "text": [
      "(94824, 1)\n",
      "(99, 13)\n"
     ]
    }
   ],
   "source": [
    "print (x_train_1.shape)\n",
    "print (x_train_1[0][0].shape)\n",
    "#print (c.shape)"
   ]
  },
  {
   "cell_type": "markdown",
   "metadata": {
    "colab_type": "text",
    "id": "CUINZJocgXjY"
   },
   "source": [
    "# Padding features with zero"
   ]
  },
  {
   "cell_type": "code",
   "execution_count": 0,
   "metadata": {
    "colab": {
     "base_uri": "https://localhost:8080/",
     "height": 101
    },
    "colab_type": "code",
    "executionInfo": {
     "elapsed": 3402,
     "status": "ok",
     "timestamp": 1576030867418,
     "user": {
      "displayName": "Mohammed Saadun",
      "photoUrl": "",
      "userId": "00430614920235689751"
     },
     "user_tz": -60
    },
    "id": "ZlEXF0mJe3Jb",
    "outputId": "426e2296-17af-4d7f-9f69-ce8756e252d7"
   },
   "outputs": [
    {
     "name": "stderr",
     "output_type": "stream",
     "text": [
      "Using TensorFlow backend.\n"
     ]
    },
    {
     "data": {
      "text/html": [
       "<p style=\"color: red;\">\n",
       "The default version of TensorFlow in Colab will soon switch to TensorFlow 2.x.<br>\n",
       "We recommend you <a href=\"https://www.tensorflow.org/guide/migrate\" target=\"_blank\">upgrade</a> now \n",
       "or ensure your notebook will continue to use TensorFlow 1.x via the <code>%tensorflow_version 1.x</code> magic:\n",
       "<a href=\"https://colab.research.google.com/notebooks/tensorflow_version.ipynb\" target=\"_blank\">more info</a>.</p>\n"
      ],
      "text/plain": [
       "<IPython.core.display.HTML object>"
      ]
     },
     "metadata": {
      "tags": []
     },
     "output_type": "display_data"
    },
    {
     "data": {
      "text/plain": [
       "(94824, 1, 100, 13)"
      ]
     },
     "execution_count": 10,
     "metadata": {
      "tags": []
     },
     "output_type": "execute_result"
    }
   ],
   "source": [
    "from keras.preprocessing.sequence import pad_sequences\n",
    "\n",
    "empty = []\n",
    "\n",
    "for each in x_train_1:\n",
    "  g = pad_sequences(each, maxlen=100, dtype='float32', padding = \"post\")\n",
    "  empty.append(g)\n",
    "\n",
    "empty = np.asarray(empty)\n",
    "empty.shape"
   ]
  },
  {
   "cell_type": "code",
   "execution_count": 0,
   "metadata": {
    "colab": {
     "base_uri": "https://localhost:8080/",
     "height": 35
    },
    "colab_type": "code",
    "executionInfo": {
     "elapsed": 840,
     "status": "ok",
     "timestamp": 1576030869936,
     "user": {
      "displayName": "Mohammed Saadun",
      "photoUrl": "",
      "userId": "00430614920235689751"
     },
     "user_tz": -60
    },
    "id": "vRLZu9G8ImFX",
    "outputId": "7656f3a0-6323-41d3-ba15-dbe24a821d07"
   },
   "outputs": [
    {
     "data": {
      "text/plain": [
       "(94824, 100, 13)"
      ]
     },
     "execution_count": 11,
     "metadata": {
      "tags": []
     },
     "output_type": "execute_result"
    }
   ],
   "source": [
    "x_arr = []\n",
    "for elke in empty:\n",
    "  for elkse in elke:\n",
    "    x_arr.append(elkse)\n",
    "\n",
    "x_arr = np.asarray(x_arr)\n",
    "x_arr.shape"
   ]
  },
  {
   "cell_type": "code",
   "execution_count": 0,
   "metadata": {
    "colab": {
     "base_uri": "https://localhost:8080/",
     "height": 258
    },
    "colab_type": "code",
    "executionInfo": {
     "elapsed": 562,
     "status": "ok",
     "timestamp": 1576030872472,
     "user": {
      "displayName": "Mohammed Saadun",
      "photoUrl": "",
      "userId": "00430614920235689751"
     },
     "user_tz": -60
    },
    "id": "ty5IqKFFNQa2",
    "outputId": "b8e9fc28-19b1-49bf-c57d-2594608b4765"
   },
   "outputs": [
    {
     "data": {
      "text/plain": [
       "array([[-13.273373  ,  -1.6485854 ,  -3.7370172 , ...,  -5.803972  ,\n",
       "         12.484084  ,   9.523147  ],\n",
       "       [-13.227814  ,  -0.54738706,  -4.4502172 , ...,  -7.335784  ,\n",
       "         14.287482  ,   6.8734455 ],\n",
       "       [-13.255228  ,  -0.91048557,  -4.0846944 , ...,  -8.168454  ,\n",
       "          9.982916  ,   1.478483  ],\n",
       "       ...,\n",
       "       [  0.        ,   0.        ,   0.        , ...,   0.        ,\n",
       "          0.        ,   0.        ],\n",
       "       [  0.        ,   0.        ,   0.        , ...,   0.        ,\n",
       "          0.        ,   0.        ],\n",
       "       [  0.        ,   0.        ,   0.        , ...,   0.        ,\n",
       "          0.        ,   0.        ]], dtype=float32)"
      ]
     },
     "execution_count": 12,
     "metadata": {
      "tags": []
     },
     "output_type": "execute_result"
    }
   ],
   "source": [
    "x_arr[7]"
   ]
  },
  {
   "cell_type": "code",
   "execution_count": 0,
   "metadata": {
    "colab": {
     "base_uri": "https://localhost:8080/",
     "height": 258
    },
    "colab_type": "code",
    "executionInfo": {
     "elapsed": 449,
     "status": "ok",
     "timestamp": 1576030875014,
     "user": {
      "displayName": "Mohammed Saadun",
      "photoUrl": "",
      "userId": "00430614920235689751"
     },
     "user_tz": -60
    },
    "id": "CeBx6fQ2Il_W",
    "outputId": "acbc7e08-70b3-4d3c-8ac8-ad0c4d390903"
   },
   "outputs": [
    {
     "data": {
      "text/plain": [
       "array([[-13.273373  ,  -1.6485854 ,  -3.7370172 , ...,  -5.803972  ,\n",
       "         12.484084  ,   9.523147  ],\n",
       "       [-13.227814  ,  -0.54738706,  -4.4502172 , ...,  -7.335784  ,\n",
       "         14.287482  ,   6.8734455 ],\n",
       "       [-13.255228  ,  -0.91048557,  -4.0846944 , ...,  -8.168454  ,\n",
       "          9.982916  ,   1.478483  ],\n",
       "       ...,\n",
       "       [ -1.4170728 ,  30.832207  ,   4.628281  , ..., -10.161711  ,\n",
       "          0.8648865 ,  -2.342379  ],\n",
       "       [ -1.3135529 ,  29.043425  ,  -1.190564  , ..., -15.347728  ,\n",
       "         -7.2374454 ,  -4.6241336 ],\n",
       "       [ -1.4021184 ,  25.547808  ,  -3.6245093 , ..., -17.73468   ,\n",
       "         -4.458716  ,  -6.0434103 ]], dtype=float32)"
      ]
     },
     "execution_count": 13,
     "metadata": {
      "tags": []
     },
     "output_type": "execute_result"
    }
   ],
   "source": [
    "x_train_1[7][0]"
   ]
  },
  {
   "cell_type": "code",
   "execution_count": 0,
   "metadata": {
    "colab": {},
    "colab_type": "code",
    "id": "WCB5N46oNOLi"
   },
   "outputs": [],
   "source": [
    "# Feature dimension\n",
    "feature_dim_1 = 100\n",
    "# Second dimension of the feature is dim2\n",
    "feature_dim_2 = 13\n",
    "channel = 1\n"
   ]
  },
  {
   "cell_type": "code",
   "execution_count": 0,
   "metadata": {
    "colab": {},
    "colab_type": "code",
    "id": "czaCGXIuNxW-"
   },
   "outputs": [],
   "source": [
    "X_train1 = x_arr.reshape(x_arr.shape[0], feature_dim_1, feature_dim_2, channel)\n"
   ]
  },
  {
   "cell_type": "code",
   "execution_count": 0,
   "metadata": {
    "colab": {},
    "colab_type": "code",
    "id": "qfvpAxWNa7mH"
   },
   "outputs": [],
   "source": [
    "from sklearn.model_selection import train_test_split\n",
    "X_train, X_test, y_train, y_test = train_test_split(X_train1, y_train1, test_size=0.2, random_state=45)"
   ]
  },
  {
   "cell_type": "markdown",
   "metadata": {
    "colab_type": "text",
    "id": "k1AhrU7_Bp_8"
   },
   "source": [
    "# Model "
   ]
  },
  {
   "cell_type": "code",
   "execution_count": 0,
   "metadata": {
    "colab": {
     "base_uri": "https://localhost:8080/",
     "height": 1000
    },
    "colab_type": "code",
    "executionInfo": {
     "elapsed": 11277732,
     "status": "error",
     "timestamp": 1576046957066,
     "user": {
      "displayName": "Mohammed Saadun",
      "photoUrl": "",
      "userId": "00430614920235689751"
     },
     "user_tz": -60
    },
    "id": "mMjrVM04Btqi",
    "outputId": "3c2944b1-a22d-4789-d2a9-6bfced6591ef"
   },
   "outputs": [
    {
     "name": "stdout",
     "output_type": "stream",
     "text": [
      "Train on 75859 samples, validate on 18965 samples\n",
      "Epoch 1/300\n",
      "75859/75859 [==============================] - 183s 2ms/step - loss: 1.8736 - acc: 0.4820 - val_loss: 1.2949 - val_acc: 0.6416\n",
      "\n",
      "Epoch 00001: val_loss improved from inf to 1.29486, saving model to /content/drive/My Drive/ML/7_best_weights_of_ML challenge.hdf5\n",
      "Epoch 2/300\n",
      "75859/75859 [==============================] - 177s 2ms/step - loss: 1.2923 - acc: 0.6354 - val_loss: 1.0476 - val_acc: 0.7029\n",
      "\n",
      "Epoch 00002: val_loss improved from 1.29486 to 1.04765, saving model to /content/drive/My Drive/ML/7_best_weights_of_ML challenge.hdf5\n",
      "Epoch 3/300\n",
      "75859/75859 [==============================] - 177s 2ms/step - loss: 1.0488 - acc: 0.7000 - val_loss: 0.8440 - val_acc: 0.7582\n",
      "\n",
      "Epoch 00003: val_loss improved from 1.04765 to 0.84395, saving model to /content/drive/My Drive/ML/7_best_weights_of_ML challenge.hdf5\n",
      "Epoch 4/300\n",
      "75859/75859 [==============================] - 177s 2ms/step - loss: 0.8919 - acc: 0.7435 - val_loss: 0.7736 - val_acc: 0.7760\n",
      "\n",
      "Epoch 00004: val_loss improved from 0.84395 to 0.77365, saving model to /content/drive/My Drive/ML/7_best_weights_of_ML challenge.hdf5\n",
      "Epoch 5/300\n",
      "75859/75859 [==============================] - 177s 2ms/step - loss: 0.7822 - acc: 0.7733 - val_loss: 0.6784 - val_acc: 0.8046\n",
      "\n",
      "Epoch 00005: val_loss improved from 0.77365 to 0.67840, saving model to /content/drive/My Drive/ML/7_best_weights_of_ML challenge.hdf5\n",
      "Epoch 6/300\n",
      "75859/75859 [==============================] - 177s 2ms/step - loss: 0.7050 - acc: 0.7949 - val_loss: 0.6383 - val_acc: 0.8149\n",
      "\n",
      "Epoch 00006: val_loss improved from 0.67840 to 0.63828, saving model to /content/drive/My Drive/ML/7_best_weights_of_ML challenge.hdf5\n",
      "Epoch 7/300\n",
      "75859/75859 [==============================] - 177s 2ms/step - loss: 0.6473 - acc: 0.8113 - val_loss: 0.6075 - val_acc: 0.8258\n",
      "\n",
      "Epoch 00007: val_loss improved from 0.63828 to 0.60753, saving model to /content/drive/My Drive/ML/7_best_weights_of_ML challenge.hdf5\n",
      "Epoch 8/300\n",
      "75859/75859 [==============================] - 177s 2ms/step - loss: 0.5971 - acc: 0.8242 - val_loss: 0.5807 - val_acc: 0.8302\n",
      "\n",
      "Epoch 00008: val_loss improved from 0.60753 to 0.58069, saving model to /content/drive/My Drive/ML/7_best_weights_of_ML challenge.hdf5\n",
      "Epoch 9/300\n",
      "75859/75859 [==============================] - 177s 2ms/step - loss: 0.5600 - acc: 0.8345 - val_loss: 0.5693 - val_acc: 0.8346\n",
      "\n",
      "Epoch 00009: val_loss improved from 0.58069 to 0.56932, saving model to /content/drive/My Drive/ML/7_best_weights_of_ML challenge.hdf5\n",
      "Epoch 10/300\n",
      "75859/75859 [==============================] - 177s 2ms/step - loss: 0.5267 - acc: 0.8432 - val_loss: 0.5418 - val_acc: 0.8424\n",
      "\n",
      "Epoch 00010: val_loss improved from 0.56932 to 0.54178, saving model to /content/drive/My Drive/ML/7_best_weights_of_ML challenge.hdf5\n",
      "Epoch 11/300\n",
      "75859/75859 [==============================] - 177s 2ms/step - loss: 0.4961 - acc: 0.8527 - val_loss: 0.5284 - val_acc: 0.8449\n",
      "\n",
      "Epoch 00011: val_loss improved from 0.54178 to 0.52840, saving model to /content/drive/My Drive/ML/7_best_weights_of_ML challenge.hdf5\n",
      "Epoch 12/300\n",
      "75859/75859 [==============================] - 177s 2ms/step - loss: 0.4762 - acc: 0.8578 - val_loss: 0.5201 - val_acc: 0.8487\n",
      "\n",
      "Epoch 00012: val_loss improved from 0.52840 to 0.52012, saving model to /content/drive/My Drive/ML/7_best_weights_of_ML challenge.hdf5\n",
      "Epoch 13/300\n",
      "75859/75859 [==============================] - 177s 2ms/step - loss: 0.4518 - acc: 0.8654 - val_loss: 0.5076 - val_acc: 0.8527\n",
      "\n",
      "Epoch 00013: val_loss improved from 0.52012 to 0.50761, saving model to /content/drive/My Drive/ML/7_best_weights_of_ML challenge.hdf5\n",
      "Epoch 14/300\n",
      "75859/75859 [==============================] - 177s 2ms/step - loss: 0.4298 - acc: 0.8716 - val_loss: 0.5118 - val_acc: 0.8518\n",
      "\n",
      "Epoch 00014: val_loss did not improve from 0.50761\n",
      "Epoch 15/300\n",
      "75859/75859 [==============================] - 177s 2ms/step - loss: 0.4124 - acc: 0.8764 - val_loss: 0.4882 - val_acc: 0.8587\n",
      "\n",
      "Epoch 00015: val_loss improved from 0.50761 to 0.48818, saving model to /content/drive/My Drive/ML/7_best_weights_of_ML challenge.hdf5\n",
      "Epoch 16/300\n",
      "75859/75859 [==============================] - 176s 2ms/step - loss: 0.3967 - acc: 0.8809 - val_loss: 0.4862 - val_acc: 0.8587\n",
      "\n",
      "Epoch 00016: val_loss improved from 0.48818 to 0.48620, saving model to /content/drive/My Drive/ML/7_best_weights_of_ML challenge.hdf5\n",
      "Epoch 17/300\n",
      "75859/75859 [==============================] - 177s 2ms/step - loss: 0.3832 - acc: 0.8856 - val_loss: 0.4990 - val_acc: 0.8560\n",
      "\n",
      "Epoch 00017: val_loss did not improve from 0.48620\n",
      "Epoch 18/300\n",
      "75859/75859 [==============================] - 177s 2ms/step - loss: 0.3731 - acc: 0.8881 - val_loss: 0.4844 - val_acc: 0.8586\n",
      "\n",
      "Epoch 00018: val_loss improved from 0.48620 to 0.48444, saving model to /content/drive/My Drive/ML/7_best_weights_of_ML challenge.hdf5\n",
      "Epoch 19/300\n",
      "75859/75859 [==============================] - 177s 2ms/step - loss: 0.3614 - acc: 0.8920 - val_loss: 0.4766 - val_acc: 0.8624\n",
      "\n",
      "Epoch 00019: val_loss improved from 0.48444 to 0.47665, saving model to /content/drive/My Drive/ML/7_best_weights_of_ML challenge.hdf5\n",
      "Epoch 20/300\n",
      "75859/75859 [==============================] - 177s 2ms/step - loss: 0.3484 - acc: 0.8960 - val_loss: 0.4786 - val_acc: 0.8607\n",
      "\n",
      "Epoch 00020: val_loss did not improve from 0.47665\n",
      "Epoch 21/300\n",
      "75859/75859 [==============================] - 177s 2ms/step - loss: 0.3398 - acc: 0.8966 - val_loss: 0.4693 - val_acc: 0.8642\n",
      "\n",
      "Epoch 00021: val_loss improved from 0.47665 to 0.46931, saving model to /content/drive/My Drive/ML/7_best_weights_of_ML challenge.hdf5\n",
      "Epoch 22/300\n",
      "75859/75859 [==============================] - 177s 2ms/step - loss: 0.3314 - acc: 0.8998 - val_loss: 0.4661 - val_acc: 0.8658\n",
      "\n",
      "Epoch 00022: val_loss improved from 0.46931 to 0.46608, saving model to /content/drive/My Drive/ML/7_best_weights_of_ML challenge.hdf5\n",
      "Epoch 23/300\n",
      "75859/75859 [==============================] - 177s 2ms/step - loss: 0.3219 - acc: 0.9027 - val_loss: 0.4647 - val_acc: 0.8672\n",
      "\n",
      "Epoch 00023: val_loss improved from 0.46608 to 0.46467, saving model to /content/drive/My Drive/ML/7_best_weights_of_ML challenge.hdf5\n",
      "Epoch 24/300\n",
      "75859/75859 [==============================] - 177s 2ms/step - loss: 0.3134 - acc: 0.9065 - val_loss: 0.4617 - val_acc: 0.8669\n",
      "\n",
      "Epoch 00024: val_loss improved from 0.46467 to 0.46166, saving model to /content/drive/My Drive/ML/7_best_weights_of_ML challenge.hdf5\n",
      "Epoch 25/300\n",
      "75859/75859 [==============================] - 177s 2ms/step - loss: 0.3060 - acc: 0.9068 - val_loss: 0.4592 - val_acc: 0.8676\n",
      "\n",
      "Epoch 00025: val_loss improved from 0.46166 to 0.45922, saving model to /content/drive/My Drive/ML/7_best_weights_of_ML challenge.hdf5\n",
      "Epoch 26/300\n",
      "75859/75859 [==============================] - 177s 2ms/step - loss: 0.3010 - acc: 0.9093 - val_loss: 0.4608 - val_acc: 0.8677\n",
      "\n",
      "Epoch 00026: val_loss did not improve from 0.45922\n",
      "Epoch 27/300\n",
      "75859/75859 [==============================] - 177s 2ms/step - loss: 0.2928 - acc: 0.9128 - val_loss: 0.4586 - val_acc: 0.8680\n",
      "\n",
      "Epoch 00027: val_loss improved from 0.45922 to 0.45861, saving model to /content/drive/My Drive/ML/7_best_weights_of_ML challenge.hdf5\n",
      "Epoch 28/300\n",
      "75859/75859 [==============================] - 177s 2ms/step - loss: 0.2853 - acc: 0.9141 - val_loss: 0.4570 - val_acc: 0.8691\n",
      "\n",
      "Epoch 00028: val_loss improved from 0.45861 to 0.45699, saving model to /content/drive/My Drive/ML/7_best_weights_of_ML challenge.hdf5\n",
      "Epoch 29/300\n",
      "75859/75859 [==============================] - 177s 2ms/step - loss: 0.2802 - acc: 0.9153 - val_loss: 0.4544 - val_acc: 0.8714\n",
      "\n",
      "Epoch 00029: val_loss improved from 0.45699 to 0.45437, saving model to /content/drive/My Drive/ML/7_best_weights_of_ML challenge.hdf5\n",
      "Epoch 30/300\n",
      "75859/75859 [==============================] - 177s 2ms/step - loss: 0.2742 - acc: 0.9170 - val_loss: 0.4541 - val_acc: 0.8702\n",
      "\n",
      "Epoch 00030: val_loss improved from 0.45437 to 0.45408, saving model to /content/drive/My Drive/ML/7_best_weights_of_ML challenge.hdf5\n",
      "Epoch 31/300\n",
      "75859/75859 [==============================] - 177s 2ms/step - loss: 0.2701 - acc: 0.9186 - val_loss: 0.4540 - val_acc: 0.8698\n",
      "\n",
      "Epoch 00031: val_loss improved from 0.45408 to 0.45398, saving model to /content/drive/My Drive/ML/7_best_weights_of_ML challenge.hdf5\n",
      "Epoch 32/300\n",
      "75859/75859 [==============================] - 177s 2ms/step - loss: 0.2663 - acc: 0.9203 - val_loss: 0.4531 - val_acc: 0.8698\n",
      "\n",
      "Epoch 00032: val_loss improved from 0.45398 to 0.45311, saving model to /content/drive/My Drive/ML/7_best_weights_of_ML challenge.hdf5\n",
      "Epoch 33/300\n",
      "75859/75859 [==============================] - 177s 2ms/step - loss: 0.2621 - acc: 0.9196 - val_loss: 0.4513 - val_acc: 0.8706\n",
      "\n",
      "Epoch 00033: val_loss improved from 0.45311 to 0.45131, saving model to /content/drive/My Drive/ML/7_best_weights_of_ML challenge.hdf5\n",
      "Epoch 34/300\n",
      "75859/75859 [==============================] - 177s 2ms/step - loss: 0.2563 - acc: 0.9228 - val_loss: 0.4490 - val_acc: 0.8726\n",
      "\n",
      "Epoch 00034: val_loss improved from 0.45131 to 0.44901, saving model to /content/drive/My Drive/ML/7_best_weights_of_ML challenge.hdf5\n",
      "Epoch 35/300\n",
      "75859/75859 [==============================] - 177s 2ms/step - loss: 0.2489 - acc: 0.9246 - val_loss: 0.4501 - val_acc: 0.8714\n",
      "\n",
      "Epoch 00035: val_loss did not improve from 0.44901\n",
      "Epoch 36/300\n",
      "75859/75859 [==============================] - 177s 2ms/step - loss: 0.2479 - acc: 0.9246 - val_loss: 0.4477 - val_acc: 0.8730\n",
      "\n",
      "Epoch 00036: val_loss improved from 0.44901 to 0.44771, saving model to /content/drive/My Drive/ML/7_best_weights_of_ML challenge.hdf5\n",
      "Epoch 37/300\n",
      "75859/75859 [==============================] - 177s 2ms/step - loss: 0.2413 - acc: 0.9264 - val_loss: 0.4505 - val_acc: 0.8724\n",
      "\n",
      "Epoch 00037: val_loss did not improve from 0.44771\n",
      "Epoch 38/300\n",
      "75859/75859 [==============================] - 177s 2ms/step - loss: 0.2399 - acc: 0.9263 - val_loss: 0.4465 - val_acc: 0.8730\n",
      "\n",
      "Epoch 00038: val_loss improved from 0.44771 to 0.44653, saving model to /content/drive/My Drive/ML/7_best_weights_of_ML challenge.hdf5\n",
      "Epoch 39/300\n",
      "75859/75859 [==============================] - 177s 2ms/step - loss: 0.2331 - acc: 0.9298 - val_loss: 0.4485 - val_acc: 0.8719\n",
      "\n",
      "Epoch 00039: val_loss did not improve from 0.44653\n",
      "Epoch 40/300\n",
      "75859/75859 [==============================] - 177s 2ms/step - loss: 0.2333 - acc: 0.9287 - val_loss: 0.4463 - val_acc: 0.8737\n",
      "\n",
      "Epoch 00040: val_loss improved from 0.44653 to 0.44628, saving model to /content/drive/My Drive/ML/7_best_weights_of_ML challenge.hdf5\n",
      "Epoch 41/300\n",
      "75859/75859 [==============================] - 177s 2ms/step - loss: 0.2305 - acc: 0.9309 - val_loss: 0.4473 - val_acc: 0.8721\n",
      "\n",
      "Epoch 00041: val_loss did not improve from 0.44628\n",
      "Epoch 42/300\n",
      "75859/75859 [==============================] - 177s 2ms/step - loss: 0.2268 - acc: 0.9314 - val_loss: 0.4469 - val_acc: 0.8731\n",
      "\n",
      "Epoch 00042: val_loss did not improve from 0.44628\n",
      "Epoch 43/300\n",
      "75859/75859 [==============================] - 177s 2ms/step - loss: 0.2213 - acc: 0.9333 - val_loss: 0.4498 - val_acc: 0.8731\n",
      "\n",
      "Epoch 00043: val_loss did not improve from 0.44628\n",
      "Epoch 44/300\n",
      "75859/75859 [==============================] - 177s 2ms/step - loss: 0.2202 - acc: 0.9327 - val_loss: 0.4453 - val_acc: 0.8743\n",
      "\n",
      "Epoch 00044: val_loss improved from 0.44628 to 0.44534, saving model to /content/drive/My Drive/ML/7_best_weights_of_ML challenge.hdf5\n",
      "Epoch 45/300\n",
      "75859/75859 [==============================] - 177s 2ms/step - loss: 0.2173 - acc: 0.9340 - val_loss: 0.4452 - val_acc: 0.8758\n",
      "\n",
      "Epoch 00045: val_loss improved from 0.44534 to 0.44516, saving model to /content/drive/My Drive/ML/7_best_weights_of_ML challenge.hdf5\n",
      "Epoch 46/300\n",
      "75859/75859 [==============================] - 177s 2ms/step - loss: 0.2150 - acc: 0.9357 - val_loss: 0.4440 - val_acc: 0.8743\n",
      "\n",
      "Epoch 00046: val_loss improved from 0.44516 to 0.44400, saving model to /content/drive/My Drive/ML/7_best_weights_of_ML challenge.hdf5\n",
      "Epoch 47/300\n",
      "75859/75859 [==============================] - 177s 2ms/step - loss: 0.2121 - acc: 0.9349 - val_loss: 0.4499 - val_acc: 0.8729\n",
      "\n",
      "Epoch 00047: val_loss did not improve from 0.44400\n",
      "Epoch 48/300\n",
      "75859/75859 [==============================] - 177s 2ms/step - loss: 0.2112 - acc: 0.9371 - val_loss: 0.4489 - val_acc: 0.8742\n",
      "\n",
      "Epoch 00048: val_loss did not improve from 0.44400\n",
      "Epoch 49/300\n",
      "75859/75859 [==============================] - 177s 2ms/step - loss: 0.2057 - acc: 0.9380 - val_loss: 0.4488 - val_acc: 0.8735\n",
      "\n",
      "Epoch 00049: val_loss did not improve from 0.44400\n",
      "Epoch 50/300\n",
      "75859/75859 [==============================] - 177s 2ms/step - loss: 0.2055 - acc: 0.9371 - val_loss: 0.4477 - val_acc: 0.8736\n",
      "\n",
      "Epoch 00050: val_loss did not improve from 0.44400\n",
      "Epoch 51/300\n",
      "75859/75859 [==============================] - 177s 2ms/step - loss: 0.2025 - acc: 0.9380 - val_loss: 0.4466 - val_acc: 0.8748\n",
      "\n",
      "Epoch 00051: val_loss did not improve from 0.44400\n",
      "Epoch 52/300\n",
      "75859/75859 [==============================] - 177s 2ms/step - loss: 0.2035 - acc: 0.9379 - val_loss: 0.4427 - val_acc: 0.8759\n",
      "\n",
      "Epoch 00052: val_loss improved from 0.44400 to 0.44266, saving model to /content/drive/My Drive/ML/7_best_weights_of_ML challenge.hdf5\n",
      "Epoch 53/300\n",
      "75859/75859 [==============================] - 177s 2ms/step - loss: 0.1976 - acc: 0.9407 - val_loss: 0.4458 - val_acc: 0.8750\n",
      "\n",
      "Epoch 00053: val_loss did not improve from 0.44266\n",
      "Epoch 54/300\n",
      "75859/75859 [==============================] - 177s 2ms/step - loss: 0.1970 - acc: 0.9400 - val_loss: 0.4431 - val_acc: 0.8753\n",
      "\n",
      "Epoch 00054: val_loss did not improve from 0.44266\n",
      "Epoch 55/300\n",
      "75859/75859 [==============================] - 177s 2ms/step - loss: 0.1908 - acc: 0.9424 - val_loss: 0.4442 - val_acc: 0.8749\n",
      "\n",
      "Epoch 00055: val_loss did not improve from 0.44266\n",
      "Epoch 56/300\n",
      "75859/75859 [==============================] - 177s 2ms/step - loss: 0.1925 - acc: 0.9426 - val_loss: 0.4470 - val_acc: 0.8745\n",
      "\n",
      "Epoch 00056: val_loss did not improve from 0.44266\n",
      "Epoch 57/300\n",
      "75859/75859 [==============================] - 177s 2ms/step - loss: 0.1909 - acc: 0.9414 - val_loss: 0.4436 - val_acc: 0.8759\n",
      "\n",
      "Epoch 00057: val_loss did not improve from 0.44266\n",
      "Epoch 58/300\n",
      "75859/75859 [==============================] - 177s 2ms/step - loss: 0.1901 - acc: 0.9419 - val_loss: 0.4434 - val_acc: 0.8775\n",
      "\n",
      "Epoch 00058: val_loss did not improve from 0.44266\n",
      "Epoch 59/300\n",
      "75859/75859 [==============================] - 177s 2ms/step - loss: 0.1887 - acc: 0.9434 - val_loss: 0.4472 - val_acc: 0.8755\n",
      "\n",
      "Epoch 00059: val_loss did not improve from 0.44266\n",
      "Epoch 60/300\n",
      "75859/75859 [==============================] - 177s 2ms/step - loss: 0.1870 - acc: 0.9435 - val_loss: 0.4425 - val_acc: 0.8776\n",
      "\n",
      "Epoch 00060: val_loss improved from 0.44266 to 0.44254, saving model to /content/drive/My Drive/ML/7_best_weights_of_ML challenge.hdf5\n",
      "Epoch 61/300\n",
      "75859/75859 [==============================] - 177s 2ms/step - loss: 0.1847 - acc: 0.9440 - val_loss: 0.4438 - val_acc: 0.8780\n",
      "\n",
      "Epoch 00061: val_loss did not improve from 0.44254\n",
      "Epoch 62/300\n",
      "75859/75859 [==============================] - 177s 2ms/step - loss: 0.1812 - acc: 0.9455 - val_loss: 0.4467 - val_acc: 0.8757\n",
      "\n",
      "Epoch 00062: val_loss did not improve from 0.44254\n",
      "Epoch 63/300\n",
      "75859/75859 [==============================] - 177s 2ms/step - loss: 0.1791 - acc: 0.9465 - val_loss: 0.4432 - val_acc: 0.8778\n",
      "\n",
      "Epoch 00063: val_loss did not improve from 0.44254\n",
      "Epoch 64/300\n",
      "44672/75859 [================>.............] - ETA: 1:07 - loss: 0.1755 - acc: 0.9469"
     ]
    },
    {
     "ename": "KeyboardInterrupt",
     "evalue": "ignored",
     "output_type": "error",
     "traceback": [
      "\u001b[0;31m---------------------------------------------------------------------------\u001b[0m",
      "\u001b[0;31mKeyboardInterrupt\u001b[0m                         Traceback (most recent call last)",
      "\u001b[0;32m<ipython-input-24-ba38de96051b>\u001b[0m in \u001b[0;36m<module>\u001b[0;34m()\u001b[0m\n\u001b[1;32m     50\u001b[0m           \u001b[0mshuffle\u001b[0m \u001b[0;34m=\u001b[0m \u001b[0;32mTrue\u001b[0m\u001b[0;34m,\u001b[0m\u001b[0;34m\u001b[0m\u001b[0;34m\u001b[0m\u001b[0m\n\u001b[1;32m     51\u001b[0m           callbacks = [cp_cb,\n\u001b[0;32m---> 52\u001b[0;31m                        es_cb])\n\u001b[0m",
      "\u001b[0;32m/usr/local/lib/python3.6/dist-packages/keras/engine/training.py\u001b[0m in \u001b[0;36mfit\u001b[0;34m(self, x, y, batch_size, epochs, verbose, callbacks, validation_split, validation_data, shuffle, class_weight, sample_weight, initial_epoch, steps_per_epoch, validation_steps, validation_freq, max_queue_size, workers, use_multiprocessing, **kwargs)\u001b[0m\n\u001b[1;32m   1176\u001b[0m                                         \u001b[0msteps_per_epoch\u001b[0m\u001b[0;34m=\u001b[0m\u001b[0msteps_per_epoch\u001b[0m\u001b[0;34m,\u001b[0m\u001b[0;34m\u001b[0m\u001b[0;34m\u001b[0m\u001b[0m\n\u001b[1;32m   1177\u001b[0m                                         \u001b[0mvalidation_steps\u001b[0m\u001b[0;34m=\u001b[0m\u001b[0mvalidation_steps\u001b[0m\u001b[0;34m,\u001b[0m\u001b[0;34m\u001b[0m\u001b[0;34m\u001b[0m\u001b[0m\n\u001b[0;32m-> 1178\u001b[0;31m                                         validation_freq=validation_freq)\n\u001b[0m\u001b[1;32m   1179\u001b[0m \u001b[0;34m\u001b[0m\u001b[0m\n\u001b[1;32m   1180\u001b[0m     def evaluate(self,\n",
      "\u001b[0;32m/usr/local/lib/python3.6/dist-packages/keras/engine/training_arrays.py\u001b[0m in \u001b[0;36mfit_loop\u001b[0;34m(model, fit_function, fit_inputs, out_labels, batch_size, epochs, verbose, callbacks, val_function, val_inputs, shuffle, callback_metrics, initial_epoch, steps_per_epoch, validation_steps, validation_freq)\u001b[0m\n\u001b[1;32m    202\u001b[0m                     \u001b[0mins_batch\u001b[0m\u001b[0;34m[\u001b[0m\u001b[0mi\u001b[0m\u001b[0;34m]\u001b[0m \u001b[0;34m=\u001b[0m \u001b[0mins_batch\u001b[0m\u001b[0;34m[\u001b[0m\u001b[0mi\u001b[0m\u001b[0;34m]\u001b[0m\u001b[0;34m.\u001b[0m\u001b[0mtoarray\u001b[0m\u001b[0;34m(\u001b[0m\u001b[0;34m)\u001b[0m\u001b[0;34m\u001b[0m\u001b[0;34m\u001b[0m\u001b[0m\n\u001b[1;32m    203\u001b[0m \u001b[0;34m\u001b[0m\u001b[0m\n\u001b[0;32m--> 204\u001b[0;31m                 \u001b[0mouts\u001b[0m \u001b[0;34m=\u001b[0m \u001b[0mfit_function\u001b[0m\u001b[0;34m(\u001b[0m\u001b[0mins_batch\u001b[0m\u001b[0;34m)\u001b[0m\u001b[0;34m\u001b[0m\u001b[0;34m\u001b[0m\u001b[0m\n\u001b[0m\u001b[1;32m    205\u001b[0m                 \u001b[0mouts\u001b[0m \u001b[0;34m=\u001b[0m \u001b[0mto_list\u001b[0m\u001b[0;34m(\u001b[0m\u001b[0mouts\u001b[0m\u001b[0;34m)\u001b[0m\u001b[0;34m\u001b[0m\u001b[0;34m\u001b[0m\u001b[0m\n\u001b[1;32m    206\u001b[0m                 \u001b[0;32mfor\u001b[0m \u001b[0ml\u001b[0m\u001b[0;34m,\u001b[0m \u001b[0mo\u001b[0m \u001b[0;32min\u001b[0m \u001b[0mzip\u001b[0m\u001b[0;34m(\u001b[0m\u001b[0mout_labels\u001b[0m\u001b[0;34m,\u001b[0m \u001b[0mouts\u001b[0m\u001b[0;34m)\u001b[0m\u001b[0;34m:\u001b[0m\u001b[0;34m\u001b[0m\u001b[0;34m\u001b[0m\u001b[0m\n",
      "\u001b[0;32m/usr/local/lib/python3.6/dist-packages/keras/backend/tensorflow_backend.py\u001b[0m in \u001b[0;36m__call__\u001b[0;34m(self, inputs)\u001b[0m\n\u001b[1;32m   2977\u001b[0m                     \u001b[0;32mreturn\u001b[0m \u001b[0mself\u001b[0m\u001b[0;34m.\u001b[0m\u001b[0m_legacy_call\u001b[0m\u001b[0;34m(\u001b[0m\u001b[0minputs\u001b[0m\u001b[0;34m)\u001b[0m\u001b[0;34m\u001b[0m\u001b[0;34m\u001b[0m\u001b[0m\n\u001b[1;32m   2978\u001b[0m \u001b[0;34m\u001b[0m\u001b[0m\n\u001b[0;32m-> 2979\u001b[0;31m             \u001b[0;32mreturn\u001b[0m \u001b[0mself\u001b[0m\u001b[0;34m.\u001b[0m\u001b[0m_call\u001b[0m\u001b[0;34m(\u001b[0m\u001b[0minputs\u001b[0m\u001b[0;34m)\u001b[0m\u001b[0;34m\u001b[0m\u001b[0;34m\u001b[0m\u001b[0m\n\u001b[0m\u001b[1;32m   2980\u001b[0m         \u001b[0;32melse\u001b[0m\u001b[0;34m:\u001b[0m\u001b[0;34m\u001b[0m\u001b[0;34m\u001b[0m\u001b[0m\n\u001b[1;32m   2981\u001b[0m             \u001b[0;32mif\u001b[0m \u001b[0mpy_any\u001b[0m\u001b[0;34m(\u001b[0m\u001b[0mis_tensor\u001b[0m\u001b[0;34m(\u001b[0m\u001b[0mx\u001b[0m\u001b[0;34m)\u001b[0m \u001b[0;32mfor\u001b[0m \u001b[0mx\u001b[0m \u001b[0;32min\u001b[0m \u001b[0minputs\u001b[0m\u001b[0;34m)\u001b[0m\u001b[0;34m:\u001b[0m\u001b[0;34m\u001b[0m\u001b[0;34m\u001b[0m\u001b[0m\n",
      "\u001b[0;32m/usr/local/lib/python3.6/dist-packages/keras/backend/tensorflow_backend.py\u001b[0m in \u001b[0;36m_call\u001b[0;34m(self, inputs)\u001b[0m\n\u001b[1;32m   2935\u001b[0m             \u001b[0mfetched\u001b[0m \u001b[0;34m=\u001b[0m \u001b[0mself\u001b[0m\u001b[0;34m.\u001b[0m\u001b[0m_callable_fn\u001b[0m\u001b[0;34m(\u001b[0m\u001b[0;34m*\u001b[0m\u001b[0marray_vals\u001b[0m\u001b[0;34m,\u001b[0m \u001b[0mrun_metadata\u001b[0m\u001b[0;34m=\u001b[0m\u001b[0mself\u001b[0m\u001b[0;34m.\u001b[0m\u001b[0mrun_metadata\u001b[0m\u001b[0;34m)\u001b[0m\u001b[0;34m\u001b[0m\u001b[0;34m\u001b[0m\u001b[0m\n\u001b[1;32m   2936\u001b[0m         \u001b[0;32melse\u001b[0m\u001b[0;34m:\u001b[0m\u001b[0;34m\u001b[0m\u001b[0;34m\u001b[0m\u001b[0m\n\u001b[0;32m-> 2937\u001b[0;31m             \u001b[0mfetched\u001b[0m \u001b[0;34m=\u001b[0m \u001b[0mself\u001b[0m\u001b[0;34m.\u001b[0m\u001b[0m_callable_fn\u001b[0m\u001b[0;34m(\u001b[0m\u001b[0;34m*\u001b[0m\u001b[0marray_vals\u001b[0m\u001b[0;34m)\u001b[0m\u001b[0;34m\u001b[0m\u001b[0;34m\u001b[0m\u001b[0m\n\u001b[0m\u001b[1;32m   2938\u001b[0m         \u001b[0;32mreturn\u001b[0m \u001b[0mfetched\u001b[0m\u001b[0;34m[\u001b[0m\u001b[0;34m:\u001b[0m\u001b[0mlen\u001b[0m\u001b[0;34m(\u001b[0m\u001b[0mself\u001b[0m\u001b[0;34m.\u001b[0m\u001b[0moutputs\u001b[0m\u001b[0;34m)\u001b[0m\u001b[0;34m]\u001b[0m\u001b[0;34m\u001b[0m\u001b[0;34m\u001b[0m\u001b[0m\n\u001b[1;32m   2939\u001b[0m \u001b[0;34m\u001b[0m\u001b[0m\n",
      "\u001b[0;32m/usr/local/lib/python3.6/dist-packages/tensorflow_core/python/client/session.py\u001b[0m in \u001b[0;36m__call__\u001b[0;34m(self, *args, **kwargs)\u001b[0m\n\u001b[1;32m   1470\u001b[0m         ret = tf_session.TF_SessionRunCallable(self._session._session,\n\u001b[1;32m   1471\u001b[0m                                                \u001b[0mself\u001b[0m\u001b[0;34m.\u001b[0m\u001b[0m_handle\u001b[0m\u001b[0;34m,\u001b[0m \u001b[0margs\u001b[0m\u001b[0;34m,\u001b[0m\u001b[0;34m\u001b[0m\u001b[0;34m\u001b[0m\u001b[0m\n\u001b[0;32m-> 1472\u001b[0;31m                                                run_metadata_ptr)\n\u001b[0m\u001b[1;32m   1473\u001b[0m         \u001b[0;32mif\u001b[0m \u001b[0mrun_metadata\u001b[0m\u001b[0;34m:\u001b[0m\u001b[0;34m\u001b[0m\u001b[0;34m\u001b[0m\u001b[0m\n\u001b[1;32m   1474\u001b[0m           \u001b[0mproto_data\u001b[0m \u001b[0;34m=\u001b[0m \u001b[0mtf_session\u001b[0m\u001b[0;34m.\u001b[0m\u001b[0mTF_GetBuffer\u001b[0m\u001b[0;34m(\u001b[0m\u001b[0mrun_metadata_ptr\u001b[0m\u001b[0;34m)\u001b[0m\u001b[0;34m\u001b[0m\u001b[0;34m\u001b[0m\u001b[0m\n",
      "\u001b[0;31mKeyboardInterrupt\u001b[0m: "
     ]
    }
   ],
   "source": [
    "import keras\n",
    "from keras.models import Sequential\n",
    "from keras.layers import Dense, Dropout, Flatten, Conv2D, MaxPooling2D\n",
    "from keras import optimizers\n",
    "from keras.layers import BatchNormalization\n",
    "from keras.layers import LeakyReLU\n",
    "from keras.callbacks import EarlyStopping, ModelCheckpoint\n",
    "\n",
    "adam = keras.optimizers.Adam(lr=0.0001,beta_1 = 0.9, beta_2 = 0.999, epsilon=1e-08)\n",
    "sgd = keras.optimizers.SGD(lr=0.01, decay=0.001, momentum=0.9, nesterov=True)\n",
    "filepath = '/content/drive/My Drive/model.hdf5' \n",
    "es_cb = EarlyStopping(monitor='val_loss', patience=25, verbose=1, mode='auto')\n",
    "cp_cb = ModelCheckpoint(filepath, monitor='val_loss', verbose=1, save_best_only=True, mode='auto')\n",
    "epochs = 300\n",
    "batch_size = 128\n",
    "num_classes = 35\n",
    "\n",
    "model = Sequential()\n",
    "model.add(Conv2D(1028, kernel_size=(4, 4), input_shape=(100, 13, 1)))\n",
    "model.add(LeakyReLU(alpha=0.1))\n",
    "model.add(BatchNormalization())\n",
    "model.add(Dropout(0.35))\n",
    "model.add(Conv2D(516, kernel_size=(3, 3)))\n",
    "model.add(LeakyReLU(alpha=0.1))\n",
    "model.add(BatchNormalization())\n",
    "model.add(Dropout(0.35))\n",
    "model.add(Conv2D(256, kernel_size=(3, 3)))\n",
    "model.add(LeakyReLU(alpha=0.1))\n",
    "model.add(BatchNormalization())\n",
    "model.add(Dropout(0.35))\n",
    "model.add(Conv2D(128, kernel_size=(3, 3)))\n",
    "model.add(LeakyReLU(alpha=0.1))\n",
    "model.add(BatchNormalization())\n",
    "model.add(Dropout(0.35))\n",
    "model.add(Flatten())\n",
    "model.add(Dense(128))\n",
    "model.add(LeakyReLU(alpha=0.1))\n",
    "model.add(BatchNormalization())\n",
    "model.add(Dropout(0.35))\n",
    "model.add(Dense(num_classes, activation='softmax'))\n",
    "model.compile(loss=keras.losses.categorical_crossentropy,\n",
    "              optimizer=sgd,\n",
    "              metrics=['accuracy'])\n",
    "\n",
    "model.fit(X_train, y_train, \n",
    "          batch_size=batch_size, \n",
    "          epochs=epochs, \n",
    "          verbose=1, \n",
    "          validation_data=(X_test, y_test), \n",
    "          shuffle = True,\n",
    "          callbacks = [cp_cb,\n",
    "                       es_cb])\n"
   ]
  },
  {
   "cell_type": "markdown",
   "metadata": {
    "colab_type": "text",
    "id": "ngbn4jKGiU0A"
   },
   "source": [
    "# Test features "
   ]
  },
  {
   "cell_type": "code",
   "execution_count": 0,
   "metadata": {
    "colab": {
     "base_uri": "https://localhost:8080/",
     "height": 105
    },
    "colab_type": "code",
    "executionInfo": {
     "elapsed": 474,
     "status": "ok",
     "timestamp": 1576047024080,
     "user": {
      "displayName": "Mohammed Saadun",
      "photoUrl": "",
      "userId": "00430614920235689751"
     },
     "user_tz": -60
    },
    "id": "a58BFqYDPX6n",
    "outputId": "cf331142-b644-4e06-a78e-6c3a2046d111"
   },
   "outputs": [
    {
     "name": "stderr",
     "output_type": "stream",
     "text": [
      "/usr/local/lib/python3.6/dist-packages/pandas/core/ops/__init__.py:1069: FutureWarning: elementwise comparison failed; returning scalar instead, but in the future will perform elementwise comparison\n",
      "  result = libops.scalar_compare(x, y, op)\n"
     ]
    },
    {
     "data": {
      "text/html": [
       "<div>\n",
       "<style scoped>\n",
       "    .dataframe tbody tr th:only-of-type {\n",
       "        vertical-align: middle;\n",
       "    }\n",
       "\n",
       "    .dataframe tbody tr th {\n",
       "        vertical-align: top;\n",
       "    }\n",
       "\n",
       "    .dataframe thead th {\n",
       "        text-align: right;\n",
       "    }\n",
       "</style>\n",
       "<table border=\"1\" class=\"dataframe\">\n",
       "  <thead>\n",
       "    <tr style=\"text-align: right;\">\n",
       "      <th></th>\n",
       "      <th>path</th>\n",
       "      <th>features</th>\n",
       "    </tr>\n",
       "  </thead>\n",
       "  <tbody>\n",
       "  </tbody>\n",
       "</table>\n",
       "</div>"
      ],
      "text/plain": [
       "Empty DataFrame\n",
       "Columns: [path, features]\n",
       "Index: []"
      ]
     },
     "execution_count": 25,
     "metadata": {
      "tags": []
     },
     "output_type": "execute_result"
    }
   ],
   "source": [
    "test2 = pd.merge(test,\n",
    "        dataset[[\"path\",\"features\"]],\n",
    "        left_on = [\"path\"],\n",
    "        right_on = [\"path\"],\n",
    "        how = \"left\")\n",
    "test2.loc[test2['features'] == \" \"]"
   ]
  },
  {
   "cell_type": "code",
   "execution_count": 0,
   "metadata": {
    "colab": {
     "base_uri": "https://localhost:8080/",
     "height": 276
    },
    "colab_type": "code",
    "executionInfo": {
     "elapsed": 483,
     "status": "ok",
     "timestamp": 1576047026718,
     "user": {
      "displayName": "Mohammed Saadun",
      "photoUrl": "",
      "userId": "00430614920235689751"
     },
     "user_tz": -60
    },
    "id": "FR6nazlU9VhL",
    "outputId": "4d1ed91b-196f-41be-e7da-97818d973651"
   },
   "outputs": [
    {
     "name": "stdout",
     "output_type": "stream",
     "text": [
      "                                               path                                           features\n",
      "0      4985e0c3784b700688c35818ba69f01b4fa3e8da.wav  [[-10.226124, -37.118977, -15.742347, 20.41904...\n",
      "1      c3815898eb339919ab56249acae83cf566eb622d.wav  [[-9.548587, -24.748652, 0.9056945, -10.070526...\n",
      "2      32c4865f292674cc904c5af503bc669c2dbd8843.wav  [[-16.266151, -24.703915, -2.5740085, -6.48961...\n",
      "3      99600d05d1a861ef9771a7bd8eca0d5f444fce7a.wav  [[-13.158611, -15.501357, -1.4940304, -13.2489...\n",
      "4      57ece62e925c94a7e6c54916caca1237467ad4d8.wav  [[-12.640213, -23.89759, -1.7320107, -8.165893...\n",
      "...                                             ...                                                ...\n",
      "11000  21d4a6af950e635bef9d5a4af619ce3cc186206b.wav  [[-8.614212, -48.211033, 22.917099, 7.979172, ...\n",
      "11001  f8e8f270bbf9c7aeeceb961c5667b622f7baa208.wav  [[-9.978789, -22.874296, -6.1318507, -14.01644...\n",
      "11002  223a600994f93fcf869b2731a761b2358dc53c23.wav  [[-6.2538586, -33.875256, 2.5920956, 18.999304...\n",
      "11003  6e39a17e99a29fa471a063738c821aa53c38c791.wav  [[-11.038775, -26.702341, -2.0712023, 12.88980...\n",
      "11004  8fb4f946c0aa002784366c02b41015efe084d432.wav  [[-12.711536, -8.897951, -11.146958, -10.19576...\n",
      "\n",
      "[11005 rows x 2 columns]\n"
     ]
    }
   ],
   "source": [
    "print(test2)"
   ]
  },
  {
   "cell_type": "code",
   "execution_count": 0,
   "metadata": {
    "colab": {
     "base_uri": "https://localhost:8080/",
     "height": 239
    },
    "colab_type": "code",
    "executionInfo": {
     "elapsed": 481,
     "status": "ok",
     "timestamp": 1576047028867,
     "user": {
      "displayName": "Mohammed Saadun",
      "photoUrl": "",
      "userId": "00430614920235689751"
     },
     "user_tz": -60
    },
    "id": "TiK4_Tdq5NRJ",
    "outputId": "4f80a6a7-32b8-49fa-b276-374dba42ac79"
   },
   "outputs": [
    {
     "name": "stdout",
     "output_type": "stream",
     "text": [
      "0        [[-10.226124, -37.118977, -15.742347, 20.41904...\n",
      "1        [[-9.548587, -24.748652, 0.9056945, -10.070526...\n",
      "2        [[-16.266151, -24.703915, -2.5740085, -6.48961...\n",
      "3        [[-13.158611, -15.501357, -1.4940304, -13.2489...\n",
      "4        [[-12.640213, -23.89759, -1.7320107, -8.165893...\n",
      "                               ...                        \n",
      "11000    [[-8.614212, -48.211033, 22.917099, 7.979172, ...\n",
      "11001    [[-9.978789, -22.874296, -6.1318507, -14.01644...\n",
      "11002    [[-6.2538586, -33.875256, 2.5920956, 18.999304...\n",
      "11003    [[-11.038775, -26.702341, -2.0712023, 12.88980...\n",
      "11004    [[-12.711536, -8.897951, -11.146958, -10.19576...\n",
      "Name: features, Length: 11005, dtype: object\n"
     ]
    }
   ],
   "source": [
    "x_test = test2[\"features\"]\n",
    "print(x_test)"
   ]
  },
  {
   "cell_type": "code",
   "execution_count": 0,
   "metadata": {
    "colab": {},
    "colab_type": "code",
    "id": "7f3MKekik1uF"
   },
   "outputs": [],
   "source": [
    "x_test_1 = test2.iloc[:,1:]\n",
    "x_test_1 = np.array(x_test_1)\n"
   ]
  },
  {
   "cell_type": "code",
   "execution_count": 0,
   "metadata": {
    "colab": {
     "base_uri": "https://localhost:8080/",
     "height": 1000
    },
    "colab_type": "code",
    "executionInfo": {
     "elapsed": 457,
     "status": "ok",
     "timestamp": 1576047033019,
     "user": {
      "displayName": "Mohammed Saadun",
      "photoUrl": "",
      "userId": "00430614920235689751"
     },
     "user_tz": -60
    },
    "id": "-Ag6_LePoDZJ",
    "outputId": "a1625ecf-52c4-4b4d-a64d-4cd9c357af2f"
   },
   "outputs": [
    {
     "name": "stdout",
     "output_type": "stream",
     "text": [
      "[[array([[-10.226124 , -37.118977 , -15.742347 , ..., -10.20496  ,\n",
      "          3.995985 ,   3.0630302],\n",
      "       [ -9.272047 , -45.75425  , -17.257053 , ...,  -5.0275555,\n",
      "          4.2812357,   6.1339855],\n",
      "       [ -6.402996 , -44.557823 , -26.819525 , ...,   2.633252 ,\n",
      "          2.2227523,  -1.8913561],\n",
      "       ...,\n",
      "       [-10.197387 , -33.277893 ,   8.122305 , ...,  10.723925 ,\n",
      "          1.8142297,  -3.8644917],\n",
      "       [-10.118658 , -35.00419  ,  12.04741  , ...,   5.0253925,\n",
      "         -9.737252 , -17.234812 ],\n",
      "       [-10.703615 , -34.22347  ,   7.02948  , ...,   3.3475018,\n",
      "         -8.188433 ,  -8.465663 ]], dtype=float32)]\n",
      " [array([[ -9.548587  , -24.748652  ,   0.9056945 , ...,  -8.580786  ,\n",
      "         -1.1877716 ,   7.7120013 ],\n",
      "       [ -6.6715455 , -29.529615  ,  12.843338  , ...,  -8.495968  ,\n",
      "          4.5410557 ,   0.93591136],\n",
      "       [ -4.9988422 , -43.738503  ,  16.477749  , ...,  -4.1691666 ,\n",
      "          0.49300647,   9.219536  ],\n",
      "       ...,\n",
      "       [-10.403003  , -23.333366  , -11.040745  , ..., -16.79764   ,\n",
      "          0.68148816,   2.7396975 ],\n",
      "       [-10.3260565 , -22.75215   , -12.458681  , ..., -14.251551  ,\n",
      "          7.1753144 ,   1.600185  ],\n",
      "       [-10.546586  , -21.14521   ,  -9.719256  , ..., -22.578833  ,\n",
      "          8.638399  ,  -1.0388677 ]], dtype=float32)]\n",
      " [array([[-16.266151  , -24.703915  ,  -2.5740085 , ...,   9.855019  ,\n",
      "          6.2995524 ,  -1.8047072 ],\n",
      "       [-16.72105   , -27.160063  ,  -7.2785444 , ...,  11.316752  ,\n",
      "          6.9041247 ,   0.48256794],\n",
      "       [-16.816294  , -26.873087  ,  -5.7834334 , ...,  13.046389  ,\n",
      "          0.7820328 ,   0.2837865 ],\n",
      "       ...,\n",
      "       [-11.6723    ,   5.040118  ,  17.4425    , ...,   6.377661  ,\n",
      "          0.3158197 ,   2.9706566 ],\n",
      "       [-12.178823  ,   6.4219604 ,  17.079159  , ...,   0.449158  ,\n",
      "         -0.17728312,   9.226685  ],\n",
      "       [-13.537442  ,   2.2785141 ,  16.66833   , ...,   2.8923492 ,\n",
      "          0.6097582 ,   8.234964  ]], dtype=float32)]\n",
      " ...\n",
      " [array([[ -6.2538586 , -33.875256  ,   2.5920956 , ...,  -8.680018  ,\n",
      "          4.9224763 ,  -8.274469  ],\n",
      "       [ -5.72755   , -37.410038  ,  -3.535417  , ...,  -8.050439  ,\n",
      "         -4.2484484 , -18.412537  ],\n",
      "       [ -5.380855  , -36.252785  ,  -5.125874  , ...,  -4.083826  ,\n",
      "         -7.271266  , -23.988554  ],\n",
      "       ...,\n",
      "       [-11.532615  ,   0.19603491,  -0.7824626 , ...,  -2.3221304 ,\n",
      "         -1.4017472 ,  -6.24176   ],\n",
      "       [-11.665942  ,   0.08558201,   1.8893812 , ...,  -0.35783133,\n",
      "          4.87914   ,  -7.0808487 ],\n",
      "       [-12.06441   ,   0.87967557,   3.3367608 , ...,   2.0017729 ,\n",
      "          6.7151175 ,  -5.5519247 ]], dtype=float32)]\n",
      " [array([[-11.038775 , -26.702341 ,  -2.0712023, ..., -22.299711 ,\n",
      "        -17.650497 , -11.050694 ],\n",
      "       [-11.369099 , -23.91803  ,  -4.300077 , ..., -19.157904 ,\n",
      "         -5.3597617,  -3.485326 ],\n",
      "       [-11.859925 , -23.7279   ,  -5.9438243, ..., -27.091518 ,\n",
      "         -4.940439 ,  -4.56192  ],\n",
      "       ...,\n",
      "       [-13.51235  , -24.452755 , -11.553394 , ..., -18.93571  ,\n",
      "        -12.574827 , -16.469048 ],\n",
      "       [-13.669143 , -25.68414  , -13.729337 , ..., -11.756007 ,\n",
      "         -6.8972964, -15.966734 ],\n",
      "       [-13.782674 , -25.905966 , -13.296589 , ...,  -9.757198 ,\n",
      "         -2.5781353, -16.540651 ]], dtype=float32)]\n",
      " [array([[-12.711536  ,  -8.897951  , -11.146958  , ...,  -7.89737   ,\n",
      "          3.203813  ,   0.09558037],\n",
      "       [-12.702224  ,  -8.303054  , -13.021624  , ...,  -8.487441  ,\n",
      "         -0.04814178,  -0.6098505 ],\n",
      "       [-12.803035  ,  -9.308819  , -11.645848  , ...,  -2.5465608 ,\n",
      "         -1.2849005 ,  -3.1877499 ],\n",
      "       ...,\n",
      "       [-12.227917  , -11.20654   , -12.6085    , ..., -11.194787  ,\n",
      "         -6.029775  ,  -0.72408533],\n",
      "       [-12.264878  , -10.319992  ,  -9.496     , ...,  -6.923133  ,\n",
      "         -3.2897573 ,   3.6673243 ],\n",
      "       [-12.486633  ,  -9.529995  ,  -5.4771924 , ...,  -2.1324308 ,\n",
      "         -4.6496134 ,   1.759626  ]], dtype=float32)]]\n"
     ]
    }
   ],
   "source": [
    "print(x_test_1)"
   ]
  },
  {
   "cell_type": "markdown",
   "metadata": {
    "colab_type": "text",
    "id": "7LakrGshyRfe"
   },
   "source": [
    "Padding test "
   ]
  },
  {
   "cell_type": "code",
   "execution_count": 0,
   "metadata": {
    "colab": {
     "base_uri": "https://localhost:8080/",
     "height": 35
    },
    "colab_type": "code",
    "executionInfo": {
     "elapsed": 619,
     "status": "ok",
     "timestamp": 1576047037648,
     "user": {
      "displayName": "Mohammed Saadun",
      "photoUrl": "",
      "userId": "00430614920235689751"
     },
     "user_tz": -60
    },
    "id": "NCp9sZKdyUnk",
    "outputId": "1518b1e3-4dbc-4065-a2da-f36f404d6c89"
   },
   "outputs": [
    {
     "data": {
      "text/plain": [
       "(11005, 1, 100, 13)"
      ]
     },
     "execution_count": 30,
     "metadata": {
      "tags": []
     },
     "output_type": "execute_result"
    }
   ],
   "source": [
    "from keras.preprocessing.sequence import pad_sequences\n",
    "\n",
    "empty = []\n",
    "\n",
    "for each in x_test_1:\n",
    "  g = pad_sequences(each, maxlen=100, dtype='float32', padding = \"post\")\n",
    "  empty.append(g)\n",
    "\n",
    "empty = np.asarray(empty)\n",
    "empty.shape"
   ]
  },
  {
   "cell_type": "code",
   "execution_count": 0,
   "metadata": {
    "colab": {
     "base_uri": "https://localhost:8080/",
     "height": 35
    },
    "colab_type": "code",
    "executionInfo": {
     "elapsed": 522,
     "status": "ok",
     "timestamp": 1576047040437,
     "user": {
      "displayName": "Mohammed Saadun",
      "photoUrl": "",
      "userId": "00430614920235689751"
     },
     "user_tz": -60
    },
    "id": "EUGfyIEvzLVN",
    "outputId": "fcd142ad-1eb9-48a6-f1b0-15239f56a2a8"
   },
   "outputs": [
    {
     "data": {
      "text/plain": [
       "(11005, 100, 13)"
      ]
     },
     "execution_count": 31,
     "metadata": {
      "tags": []
     },
     "output_type": "execute_result"
    }
   ],
   "source": [
    "x_arr = []\n",
    "for elke in empty:\n",
    "  for elkse in elke:\n",
    "    x_arr.append(elkse)\n",
    "\n",
    "x_arr = np.asarray(x_arr)\n",
    "x_arr.shape"
   ]
  },
  {
   "cell_type": "code",
   "execution_count": 0,
   "metadata": {
    "colab": {
     "base_uri": "https://localhost:8080/",
     "height": 258
    },
    "colab_type": "code",
    "executionInfo": {
     "elapsed": 495,
     "status": "ok",
     "timestamp": 1576047043165,
     "user": {
      "displayName": "Mohammed Saadun",
      "photoUrl": "",
      "userId": "00430614920235689751"
     },
     "user_tz": -60
    },
    "id": "UfeczVaNztu0",
    "outputId": "4ec4eb10-43fe-4725-e462-1ace0265e015"
   },
   "outputs": [
    {
     "data": {
      "text/plain": [
       "array([[-10.226124 , -37.118977 , -15.742347 , ..., -10.20496  ,\n",
       "          3.995985 ,   3.0630302],\n",
       "       [ -9.272047 , -45.75425  , -17.257053 , ...,  -5.0275555,\n",
       "          4.2812357,   6.1339855],\n",
       "       [ -6.402996 , -44.557823 , -26.819525 , ...,   2.633252 ,\n",
       "          2.2227523,  -1.8913561],\n",
       "       ...,\n",
       "       [-10.118658 , -35.00419  ,  12.04741  , ...,   5.0253925,\n",
       "         -9.737252 , -17.234812 ],\n",
       "       [-10.703615 , -34.22347  ,   7.02948  , ...,   3.3475018,\n",
       "         -8.188433 ,  -8.465663 ],\n",
       "       [  0.       ,   0.       ,   0.       , ...,   0.       ,\n",
       "          0.       ,   0.       ]], dtype=float32)"
      ]
     },
     "execution_count": 32,
     "metadata": {
      "tags": []
     },
     "output_type": "execute_result"
    }
   ],
   "source": [
    "x_arr[0]"
   ]
  },
  {
   "cell_type": "code",
   "execution_count": 0,
   "metadata": {
    "colab": {},
    "colab_type": "code",
    "id": "545lbUGctaVU"
   },
   "outputs": [],
   "source": [
    "x_test1 = x_arr.reshape(x_arr.shape[0], feature_dim_1, feature_dim_2, channel)"
   ]
  },
  {
   "cell_type": "markdown",
   "metadata": {
    "colab_type": "text",
    "id": "d0mxOCrX2dq1"
   },
   "source": [
    "model test"
   ]
  },
  {
   "cell_type": "markdown",
   "metadata": {
    "colab_type": "text",
    "id": "gl6V5JezsEa0"
   },
   "source": [
    "# Predictions\n"
   ]
  },
  {
   "cell_type": "code",
   "execution_count": 0,
   "metadata": {
    "colab": {},
    "colab_type": "code",
    "id": "e9rGY4YjsN1Z"
   },
   "outputs": [],
   "source": [
    "from keras.models import load_model\n",
    "model = load_model(\"/content/drive/My Drive/model.hdf5\") "
   ]
  },
  {
   "cell_type": "code",
   "execution_count": 0,
   "metadata": {
    "colab": {},
    "colab_type": "code",
    "id": "XJggukVGtvJD"
   },
   "outputs": [],
   "source": [
    "pred =  model.predict(x_test1)"
   ]
  },
  {
   "cell_type": "code",
   "execution_count": 0,
   "metadata": {
    "colab": {
     "base_uri": "https://localhost:8080/",
     "height": 35
    },
    "colab_type": "code",
    "executionInfo": {
     "elapsed": 439,
     "status": "ok",
     "timestamp": 1576047123335,
     "user": {
      "displayName": "Mohammed Saadun",
      "photoUrl": "",
      "userId": "00430614920235689751"
     },
     "user_tz": -60
    },
    "id": "KJDq8xsNtveN",
    "outputId": "e31cb864-421c-4019-ca3d-650e67af7448"
   },
   "outputs": [
    {
     "data": {
      "text/plain": [
       "(11005, 35)"
      ]
     },
     "execution_count": 37,
     "metadata": {
      "tags": []
     },
     "output_type": "execute_result"
    }
   ],
   "source": [
    "pred.shape"
   ]
  },
  {
   "cell_type": "code",
   "execution_count": 0,
   "metadata": {
    "colab": {
     "base_uri": "https://localhost:8080/",
     "height": 184
    },
    "colab_type": "code",
    "executionInfo": {
     "elapsed": 438,
     "status": "ok",
     "timestamp": 1576047125440,
     "user": {
      "displayName": "Mohammed Saadun",
      "photoUrl": "",
      "userId": "00430614920235689751"
     },
     "user_tz": -60
    },
    "id": "1dCB_5Detvwk",
    "outputId": "10c21d27-bbd6-4ada-d563-a7e53a00e60f"
   },
   "outputs": [
    {
     "data": {
      "text/plain": [
       "array([1.9377527e-08, 5.6961790e-07, 1.5162991e-08, 9.9558628e-01,\n",
       "       2.3715231e-08, 3.1941212e-07, 1.3828520e-07, 4.3812097e-08,\n",
       "       8.7657446e-09, 6.0813701e-09, 2.5563475e-07, 7.1365054e-07,\n",
       "       8.3889091e-08, 8.4178770e-05, 3.9931560e-08, 1.1709495e-03,\n",
       "       1.0500481e-10, 2.1735334e-10, 2.3743554e-07, 9.8820537e-06,\n",
       "       1.4858299e-10, 2.1984299e-09, 4.7277640e-09, 5.0709804e-07,\n",
       "       1.4054570e-05, 3.2163469e-05, 6.8258678e-06, 1.0599787e-10,\n",
       "       3.2139675e-07, 5.9566747e-07, 1.5203410e-07, 6.0299740e-08,\n",
       "       1.5796627e-09, 3.0914382e-03, 7.6225000e-08], dtype=float32)"
      ]
     },
     "execution_count": 38,
     "metadata": {
      "tags": []
     },
     "output_type": "execute_result"
    }
   ],
   "source": [
    "pred[1]"
   ]
  },
  {
   "cell_type": "code",
   "execution_count": 0,
   "metadata": {
    "colab": {
     "base_uri": "https://localhost:8080/",
     "height": 128
    },
    "colab_type": "code",
    "executionInfo": {
     "elapsed": 456,
     "status": "ok",
     "timestamp": 1576047129034,
     "user": {
      "displayName": "Mohammed Saadun",
      "photoUrl": "",
      "userId": "00430614920235689751"
     },
     "user_tz": -60
    },
    "id": "GEXhY_DmuLfw",
    "outputId": "f4d8bb10-227a-47a9-9702-090fbdc5e5a2"
   },
   "outputs": [
    {
     "data": {
      "text/plain": [
       "(array([ 0,  1,  2,  3,  4,  5,  6,  7,  8,  9, 10, 11, 12, 13, 14, 15, 16,\n",
       "        17, 18, 19, 20, 21, 22, 23, 24, 25, 26, 27, 28, 29, 30, 31, 32, 33,\n",
       "        34]),\n",
       " array([141, 258, 185, 204, 200, 435, 409, 446, 165, 122, 421, 411, 192,\n",
       "        185, 139, 402, 179, 420, 427, 365, 409, 405, 365, 451, 220, 410,\n",
       "        404, 390, 188, 441, 426, 167, 207, 416, 400]))"
      ]
     },
     "execution_count": 39,
     "metadata": {
      "tags": []
     },
     "output_type": "execute_result"
    }
   ],
   "source": [
    "labels = np.argmax(pred, axis=-1) \n",
    "np.unique(labels, return_counts=True)"
   ]
  },
  {
   "cell_type": "code",
   "execution_count": 0,
   "metadata": {
    "colab": {},
    "colab_type": "code",
    "id": "Ju8-cOssuUTo"
   },
   "outputs": [],
   "source": [
    "words = []\n",
    "for i in labels:\n",
    "  if i == 0:\n",
    "    words.append(\"backward\")\n",
    "  elif i == 1:\n",
    "    words.append(\"bed\")\n",
    "  elif i == 2:\n",
    "    words.append(\"bird\")\n",
    "  elif i == 3:\n",
    "    words.append(\"cat\")\n",
    "  elif i == 4:\n",
    "    words.append(\"dog\")\n",
    "  elif i == 5:\n",
    "    words.append(\"down\")\n",
    "  elif i == 6:\n",
    "    words.append(\"eight\")\n",
    "  elif i == 7:\n",
    "    words.append(\"five\")\n",
    "  elif i == 8:\n",
    "    words.append(\"follow\")\n",
    "  elif i == 9:\n",
    "    words.append(\"forward\")\n",
    "  elif i == 10:\n",
    "    words.append(\"four\")\n",
    "  elif i == 11:\n",
    "    words.append(\"go\")\n",
    "  elif i == 12:\n",
    "    words.append(\"happy\")\n",
    "  elif i == 13:\n",
    "    words.append(\"house\")\n",
    "  elif i == 14:\n",
    "    words.append(\"learn\")\n",
    "  elif i == 15:\n",
    "    words.append(\"left\")\n",
    "  elif i == 16:\n",
    "    words.append(\"marvin\")\n",
    "  elif i == 17:\n",
    "    words.append(\"nine\")\n",
    "  elif i == 18:\n",
    "    words.append(\"no\")\n",
    "  elif i == 19:\n",
    "    words.append(\"off\")\n",
    "  elif i == 20:\n",
    "    words.append(\"on\")\n",
    "  elif i == 21:\n",
    "    words.append(\"one\")\n",
    "  elif i == 22:\n",
    "    words.append(\"right\")\n",
    "  elif i == 23:\n",
    "    words.append(\"seven\")\n",
    "  elif i == 24:\n",
    "    words.append(\"sheila\")\n",
    "  elif i == 25:\n",
    "    words.append(\"six\")\n",
    "  elif i == 26:\n",
    "    words.append(\"stop\")\n",
    "  elif i == 27:\n",
    "    words.append(\"three\")\n",
    "  elif i == 28:\n",
    "    words.append(\"tree\")\n",
    "  elif i == 29:\n",
    "    words.append(\"two\")\n",
    "  elif i == 30:\n",
    "    words.append(\"up\")\n",
    "  elif i == 31:\n",
    "    words.append(\"visual\")\n",
    "  elif i == 32:\n",
    "    words.append(\"wow\")\n",
    "  elif i == 33:\n",
    "    words.append(\"yes\")\n",
    "  elif i == 34:\n",
    "    words.append(\"zero\")"
   ]
  },
  {
   "cell_type": "code",
   "execution_count": 0,
   "metadata": {
    "colab": {
     "base_uri": "https://localhost:8080/",
     "height": 82
    },
    "colab_type": "code",
    "executionInfo": {
     "elapsed": 942,
     "status": "ok",
     "timestamp": 1576018234893,
     "user": {
      "displayName": "Aron Wattel",
      "photoUrl": "",
      "userId": "15356418264164897115"
     },
     "user_tz": -60
    },
    "id": "Ca_7HvicxLIW",
    "outputId": "d4d90337-406c-405f-8510-ad7f8ffdf0c8"
   },
   "outputs": [
    {
     "name": "stdout",
     "output_type": "stream",
     "text": [
      "['backward' 'bed' 'bird' 'cat' 'dog' 'down' 'eight' 'five' 'follow'\n",
      " 'forward' 'four' 'go' 'happy' 'house' 'learn' 'left' 'marvin' 'nine' 'no'\n",
      " 'off' 'on' 'one' 'right' 'seven' 'sheila' 'six' 'stop' 'three' 'tree'\n",
      " 'two' 'up' 'visual' 'wow' 'yes' 'zero']\n"
     ]
    }
   ],
   "source": [
    "print(np.unique(y_train_1))"
   ]
  },
  {
   "cell_type": "code",
   "execution_count": 0,
   "metadata": {
    "colab": {
     "base_uri": "https://localhost:8080/",
     "height": 411
    },
    "colab_type": "code",
    "executionInfo": {
     "elapsed": 1380,
     "status": "ok",
     "timestamp": 1576021925067,
     "user": {
      "displayName": "Aron Wattel",
      "photoUrl": "",
      "userId": "15356418264164897115"
     },
     "user_tz": -60
    },
    "id": "uIzXMnWszPR3",
    "outputId": "be3afef2-464f-4019-a713-0b6294465154"
   },
   "outputs": [
    {
     "data": {
      "text/html": [
       "<div>\n",
       "<style scoped>\n",
       "    .dataframe tbody tr th:only-of-type {\n",
       "        vertical-align: middle;\n",
       "    }\n",
       "\n",
       "    .dataframe tbody tr th {\n",
       "        vertical-align: top;\n",
       "    }\n",
       "\n",
       "    .dataframe thead th {\n",
       "        text-align: right;\n",
       "    }\n",
       "</style>\n",
       "<table border=\"1\" class=\"dataframe\">\n",
       "  <thead>\n",
       "    <tr style=\"text-align: right;\">\n",
       "      <th></th>\n",
       "      <th>path</th>\n",
       "      <th>word</th>\n",
       "    </tr>\n",
       "  </thead>\n",
       "  <tbody>\n",
       "    <tr>\n",
       "      <th>0</th>\n",
       "      <td>4985e0c3784b700688c35818ba69f01b4fa3e8da.wav</td>\n",
       "      <td>sheila</td>\n",
       "    </tr>\n",
       "    <tr>\n",
       "      <th>1</th>\n",
       "      <td>c3815898eb339919ab56249acae83cf566eb622d.wav</td>\n",
       "      <td>yes</td>\n",
       "    </tr>\n",
       "    <tr>\n",
       "      <th>2</th>\n",
       "      <td>32c4865f292674cc904c5af503bc669c2dbd8843.wav</td>\n",
       "      <td>bed</td>\n",
       "    </tr>\n",
       "    <tr>\n",
       "      <th>3</th>\n",
       "      <td>99600d05d1a861ef9771a7bd8eca0d5f444fce7a.wav</td>\n",
       "      <td>no</td>\n",
       "    </tr>\n",
       "    <tr>\n",
       "      <th>4</th>\n",
       "      <td>57ece62e925c94a7e6c54916caca1237467ad4d8.wav</td>\n",
       "      <td>left</td>\n",
       "    </tr>\n",
       "    <tr>\n",
       "      <th>...</th>\n",
       "      <td>...</td>\n",
       "      <td>...</td>\n",
       "    </tr>\n",
       "    <tr>\n",
       "      <th>11000</th>\n",
       "      <td>21d4a6af950e635bef9d5a4af619ce3cc186206b.wav</td>\n",
       "      <td>go</td>\n",
       "    </tr>\n",
       "    <tr>\n",
       "      <th>11001</th>\n",
       "      <td>f8e8f270bbf9c7aeeceb961c5667b622f7baa208.wav</td>\n",
       "      <td>off</td>\n",
       "    </tr>\n",
       "    <tr>\n",
       "      <th>11002</th>\n",
       "      <td>223a600994f93fcf869b2731a761b2358dc53c23.wav</td>\n",
       "      <td>five</td>\n",
       "    </tr>\n",
       "    <tr>\n",
       "      <th>11003</th>\n",
       "      <td>6e39a17e99a29fa471a063738c821aa53c38c791.wav</td>\n",
       "      <td>left</td>\n",
       "    </tr>\n",
       "    <tr>\n",
       "      <th>11004</th>\n",
       "      <td>8fb4f946c0aa002784366c02b41015efe084d432.wav</td>\n",
       "      <td>backward</td>\n",
       "    </tr>\n",
       "  </tbody>\n",
       "</table>\n",
       "<p>11005 rows × 2 columns</p>\n",
       "</div>"
      ],
      "text/plain": [
       "                                               path      word\n",
       "0      4985e0c3784b700688c35818ba69f01b4fa3e8da.wav    sheila\n",
       "1      c3815898eb339919ab56249acae83cf566eb622d.wav       yes\n",
       "2      32c4865f292674cc904c5af503bc669c2dbd8843.wav       bed\n",
       "3      99600d05d1a861ef9771a7bd8eca0d5f444fce7a.wav        no\n",
       "4      57ece62e925c94a7e6c54916caca1237467ad4d8.wav      left\n",
       "...                                             ...       ...\n",
       "11000  21d4a6af950e635bef9d5a4af619ce3cc186206b.wav        go\n",
       "11001  f8e8f270bbf9c7aeeceb961c5667b622f7baa208.wav       off\n",
       "11002  223a600994f93fcf869b2731a761b2358dc53c23.wav      five\n",
       "11003  6e39a17e99a29fa471a063738c821aa53c38c791.wav      left\n",
       "11004  8fb4f946c0aa002784366c02b41015efe084d432.wav  backward\n",
       "\n",
       "[11005 rows x 2 columns]"
      ]
     },
     "execution_count": 58,
     "metadata": {
      "tags": []
     },
     "output_type": "execute_result"
    }
   ],
   "source": [
    "test['word'] = np.array(words)"
   ]
  },
  {
   "cell_type": "code",
   "execution_count": 0,
   "metadata": {
    "colab": {
     "base_uri": "https://localhost:8080/",
     "height": 411
    },
    "colab_type": "code",
    "executionInfo": {
     "elapsed": 419,
     "status": "ok",
     "timestamp": 1576047183086,
     "user": {
      "displayName": "Mohammed Saadun",
      "photoUrl": "",
      "userId": "00430614920235689751"
     },
     "user_tz": -60
    },
    "id": "EvAJTBZXu1CN",
    "outputId": "6586f5af-83cd-45d6-911b-e6954fa220e6"
   },
   "outputs": [
    {
     "data": {
      "text/html": [
       "<div>\n",
       "<style scoped>\n",
       "    .dataframe tbody tr th:only-of-type {\n",
       "        vertical-align: middle;\n",
       "    }\n",
       "\n",
       "    .dataframe tbody tr th {\n",
       "        vertical-align: top;\n",
       "    }\n",
       "\n",
       "    .dataframe thead th {\n",
       "        text-align: right;\n",
       "    }\n",
       "</style>\n",
       "<table border=\"1\" class=\"dataframe\">\n",
       "  <thead>\n",
       "    <tr style=\"text-align: right;\">\n",
       "      <th></th>\n",
       "      <th>path</th>\n",
       "      <th>word</th>\n",
       "    </tr>\n",
       "  </thead>\n",
       "  <tbody>\n",
       "    <tr>\n",
       "      <th>0</th>\n",
       "      <td>4985e0c3784b700688c35818ba69f01b4fa3e8da.wav</td>\n",
       "      <td>six</td>\n",
       "    </tr>\n",
       "    <tr>\n",
       "      <th>1</th>\n",
       "      <td>c3815898eb339919ab56249acae83cf566eb622d.wav</td>\n",
       "      <td>cat</td>\n",
       "    </tr>\n",
       "    <tr>\n",
       "      <th>2</th>\n",
       "      <td>32c4865f292674cc904c5af503bc669c2dbd8843.wav</td>\n",
       "      <td>seven</td>\n",
       "    </tr>\n",
       "    <tr>\n",
       "      <th>3</th>\n",
       "      <td>99600d05d1a861ef9771a7bd8eca0d5f444fce7a.wav</td>\n",
       "      <td>no</td>\n",
       "    </tr>\n",
       "    <tr>\n",
       "      <th>4</th>\n",
       "      <td>57ece62e925c94a7e6c54916caca1237467ad4d8.wav</td>\n",
       "      <td>left</td>\n",
       "    </tr>\n",
       "    <tr>\n",
       "      <th>...</th>\n",
       "      <td>...</td>\n",
       "      <td>...</td>\n",
       "    </tr>\n",
       "    <tr>\n",
       "      <th>11000</th>\n",
       "      <td>21d4a6af950e635bef9d5a4af619ce3cc186206b.wav</td>\n",
       "      <td>go</td>\n",
       "    </tr>\n",
       "    <tr>\n",
       "      <th>11001</th>\n",
       "      <td>f8e8f270bbf9c7aeeceb961c5667b622f7baa208.wav</td>\n",
       "      <td>off</td>\n",
       "    </tr>\n",
       "    <tr>\n",
       "      <th>11002</th>\n",
       "      <td>223a600994f93fcf869b2731a761b2358dc53c23.wav</td>\n",
       "      <td>five</td>\n",
       "    </tr>\n",
       "    <tr>\n",
       "      <th>11003</th>\n",
       "      <td>6e39a17e99a29fa471a063738c821aa53c38c791.wav</td>\n",
       "      <td>left</td>\n",
       "    </tr>\n",
       "    <tr>\n",
       "      <th>11004</th>\n",
       "      <td>8fb4f946c0aa002784366c02b41015efe084d432.wav</td>\n",
       "      <td>backward</td>\n",
       "    </tr>\n",
       "  </tbody>\n",
       "</table>\n",
       "<p>11005 rows × 2 columns</p>\n",
       "</div>"
      ],
      "text/plain": [
       "                                               path      word\n",
       "0      4985e0c3784b700688c35818ba69f01b4fa3e8da.wav       six\n",
       "1      c3815898eb339919ab56249acae83cf566eb622d.wav       cat\n",
       "2      32c4865f292674cc904c5af503bc669c2dbd8843.wav     seven\n",
       "3      99600d05d1a861ef9771a7bd8eca0d5f444fce7a.wav        no\n",
       "4      57ece62e925c94a7e6c54916caca1237467ad4d8.wav      left\n",
       "...                                             ...       ...\n",
       "11000  21d4a6af950e635bef9d5a4af619ce3cc186206b.wav        go\n",
       "11001  f8e8f270bbf9c7aeeceb961c5667b622f7baa208.wav       off\n",
       "11002  223a600994f93fcf869b2731a761b2358dc53c23.wav      five\n",
       "11003  6e39a17e99a29fa471a063738c821aa53c38c791.wav      left\n",
       "11004  8fb4f946c0aa002784366c02b41015efe084d432.wav  backward\n",
       "\n",
       "[11005 rows x 2 columns]"
      ]
     },
     "execution_count": 42,
     "metadata": {
      "tags": []
     },
     "output_type": "execute_result"
    }
   ],
   "source": [
    "test['word'] = np.array(words)\n",
    "test"
   ]
  },
  {
   "cell_type": "code",
   "execution_count": 0,
   "metadata": {
    "colab": {
     "base_uri": "https://localhost:8080/",
     "height": 411
    },
    "colab_type": "code",
    "executionInfo": {
     "elapsed": 1055,
     "status": "ok",
     "timestamp": 1576021988394,
     "user": {
      "displayName": "Aron Wattel",
      "photoUrl": "",
      "userId": "15356418264164897115"
     },
     "user_tz": -60
    },
    "id": "vKUMbB7H3XxK",
    "outputId": "796d0281-0d83-4a29-cae4-250ed0a8aaaf"
   },
   "outputs": [
    {
     "data": {
      "text/html": [
       "<div>\n",
       "<style scoped>\n",
       "    .dataframe tbody tr th:only-of-type {\n",
       "        vertical-align: middle;\n",
       "    }\n",
       "\n",
       "    .dataframe tbody tr th {\n",
       "        vertical-align: top;\n",
       "    }\n",
       "\n",
       "    .dataframe thead th {\n",
       "        text-align: right;\n",
       "    }\n",
       "</style>\n",
       "<table border=\"1\" class=\"dataframe\">\n",
       "  <thead>\n",
       "    <tr style=\"text-align: right;\">\n",
       "      <th></th>\n",
       "      <th>path</th>\n",
       "      <th>word</th>\n",
       "    </tr>\n",
       "  </thead>\n",
       "  <tbody>\n",
       "    <tr>\n",
       "      <th>0</th>\n",
       "      <td>4985e0c3784b700688c35818ba69f01b4fa3e8da.wav</td>\n",
       "      <td>sheila</td>\n",
       "    </tr>\n",
       "    <tr>\n",
       "      <th>1</th>\n",
       "      <td>c3815898eb339919ab56249acae83cf566eb622d.wav</td>\n",
       "      <td>yes</td>\n",
       "    </tr>\n",
       "    <tr>\n",
       "      <th>2</th>\n",
       "      <td>32c4865f292674cc904c5af503bc669c2dbd8843.wav</td>\n",
       "      <td>bed</td>\n",
       "    </tr>\n",
       "    <tr>\n",
       "      <th>3</th>\n",
       "      <td>99600d05d1a861ef9771a7bd8eca0d5f444fce7a.wav</td>\n",
       "      <td>no</td>\n",
       "    </tr>\n",
       "    <tr>\n",
       "      <th>4</th>\n",
       "      <td>57ece62e925c94a7e6c54916caca1237467ad4d8.wav</td>\n",
       "      <td>left</td>\n",
       "    </tr>\n",
       "    <tr>\n",
       "      <th>...</th>\n",
       "      <td>...</td>\n",
       "      <td>...</td>\n",
       "    </tr>\n",
       "    <tr>\n",
       "      <th>11000</th>\n",
       "      <td>21d4a6af950e635bef9d5a4af619ce3cc186206b.wav</td>\n",
       "      <td>go</td>\n",
       "    </tr>\n",
       "    <tr>\n",
       "      <th>11001</th>\n",
       "      <td>f8e8f270bbf9c7aeeceb961c5667b622f7baa208.wav</td>\n",
       "      <td>off</td>\n",
       "    </tr>\n",
       "    <tr>\n",
       "      <th>11002</th>\n",
       "      <td>223a600994f93fcf869b2731a761b2358dc53c23.wav</td>\n",
       "      <td>five</td>\n",
       "    </tr>\n",
       "    <tr>\n",
       "      <th>11003</th>\n",
       "      <td>6e39a17e99a29fa471a063738c821aa53c38c791.wav</td>\n",
       "      <td>left</td>\n",
       "    </tr>\n",
       "    <tr>\n",
       "      <th>11004</th>\n",
       "      <td>8fb4f946c0aa002784366c02b41015efe084d432.wav</td>\n",
       "      <td>backward</td>\n",
       "    </tr>\n",
       "  </tbody>\n",
       "</table>\n",
       "<p>11005 rows × 2 columns</p>\n",
       "</div>"
      ],
      "text/plain": [
       "                                               path      word\n",
       "0      4985e0c3784b700688c35818ba69f01b4fa3e8da.wav    sheila\n",
       "1      c3815898eb339919ab56249acae83cf566eb622d.wav       yes\n",
       "2      32c4865f292674cc904c5af503bc669c2dbd8843.wav       bed\n",
       "3      99600d05d1a861ef9771a7bd8eca0d5f444fce7a.wav        no\n",
       "4      57ece62e925c94a7e6c54916caca1237467ad4d8.wav      left\n",
       "...                                             ...       ...\n",
       "11000  21d4a6af950e635bef9d5a4af619ce3cc186206b.wav        go\n",
       "11001  f8e8f270bbf9c7aeeceb961c5667b622f7baa208.wav       off\n",
       "11002  223a600994f93fcf869b2731a761b2358dc53c23.wav      five\n",
       "11003  6e39a17e99a29fa471a063738c821aa53c38c791.wav      left\n",
       "11004  8fb4f946c0aa002784366c02b41015efe084d432.wav  backward\n",
       "\n",
       "[11005 rows x 2 columns]"
      ]
     },
     "execution_count": 62,
     "metadata": {
      "tags": []
     },
     "output_type": "execute_result"
    }
   ],
   "source": [
    "test"
   ]
  },
  {
   "cell_type": "code",
   "execution_count": 0,
   "metadata": {
    "colab": {},
    "colab_type": "code",
    "id": "hbR7xN6-50j0"
   },
   "outputs": [],
   "source": [
    "test_csv = test.to_csv(\"/content/drive/test.csv\", index = False)"
   ]
  }
 ],
 "metadata": {
  "accelerator": "GPU",
  "colab": {
   "collapsed_sections": [
    "w975VFZZ6cHA",
    "uAdaGmUKgKPC",
    "CUINZJocgXjY",
    "v-vqCsSJwR0g",
    "UDd9K6tzv1Yb",
    "rj0S6Lv7v6wk",
    "NkOBLJPVxbkn",
    "lUDUazULzR1C",
    "5K-dmb0T3glY",
    "ngbn4jKGiU0A",
    "gl6V5JezsEa0"
   ],
   "name": "Copy of Test_begin + Machine Learning modellen + preprocessing.ipynb",
   "provenance": [
    {
     "file_id": "1m2Cz1dP_RM3Vor3i9O3mrg1ggjokRYTo",
     "timestamp": 1575996471461
    }
   ],
   "toc_visible": true
  },
  "kernelspec": {
   "display_name": "Python 3",
   "language": "python",
   "name": "python3"
  },
  "language_info": {
   "codemirror_mode": {
    "name": "ipython",
    "version": 3
   },
   "file_extension": ".py",
   "mimetype": "text/x-python",
   "name": "python",
   "nbconvert_exporter": "python",
   "pygments_lexer": "ipython3",
   "version": "3.6.5"
  }
 },
 "nbformat": 4,
 "nbformat_minor": 1
}
